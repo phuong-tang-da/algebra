{
 "cells": [
  {
   "cell_type": "code",
   "execution_count": 1,
   "id": "762f06e1",
   "metadata": {},
   "outputs": [],
   "source": [
    "import numpy as np"
   ]
  },
  {
   "cell_type": "code",
   "execution_count": 2,
   "id": "19eadf43",
   "metadata": {},
   "outputs": [],
   "source": [
    "from numpy.linalg import norm # norm\n",
    "from numpy.linalg import inv # inverse\n",
    "from numpy.linalg import det # determinant\n",
    "from numpy.linalg import matrix_rank # rank\n",
    "import scipy.sparse as sparse # sparse matrix\n",
    "import math\n",
    "import random"
   ]
  },
  {
   "cell_type": "markdown",
   "id": "078adf0e",
   "metadata": {},
   "source": [
    "### Vector "
   ]
  },
  {
   "cell_type": "markdown",
   "id": "d9d223fb",
   "metadata": {},
   "source": [
    "**Vector norm: The length of a vector is a nonnegative number that describes the extent of the vector in space, and is sometimes referred to as the vector’s magnitude or the norm.**"
   ]
  },
  {
   "cell_type": "code",
   "execution_count": 3,
   "id": "a741400a",
   "metadata": {},
   "outputs": [],
   "source": [
    "vn= np.array([1,2,3])"
   ]
  },
  {
   "cell_type": "code",
   "execution_count": 4,
   "id": "c817265b",
   "metadata": {},
   "outputs": [
    {
     "data": {
      "text/plain": [
       "array([49, 43, 22, 47, 23])"
      ]
     },
     "execution_count": 4,
     "metadata": {},
     "output_type": "execute_result"
    }
   ],
   "source": [
    "vn1= np.random.randint(10,50, size=5)\n",
    "vn1"
   ]
  },
  {
   "cell_type": "code",
   "execution_count": 5,
   "id": "57391445",
   "metadata": {},
   "outputs": [
    {
     "data": {
      "text/plain": [
       "1"
      ]
     },
     "execution_count": 5,
     "metadata": {},
     "output_type": "execute_result"
    }
   ],
   "source": [
    "vn.ndim"
   ]
  },
  {
   "cell_type": "code",
   "execution_count": 6,
   "id": "bdfcc9aa",
   "metadata": {},
   "outputs": [
    {
     "data": {
      "text/plain": [
       "(3,)"
      ]
     },
     "execution_count": 6,
     "metadata": {},
     "output_type": "execute_result"
    }
   ],
   "source": [
    "vn.shape"
   ]
  },
  {
   "cell_type": "markdown",
   "id": "3b5c5415",
   "metadata": {},
   "source": [
    "**Arithmetic Operation**"
   ]
  },
  {
   "cell_type": "code",
   "execution_count": 7,
   "id": "ee54b41b",
   "metadata": {},
   "outputs": [
    {
     "data": {
      "text/plain": [
       "array([2, 4, 6])"
      ]
     },
     "execution_count": 7,
     "metadata": {},
     "output_type": "execute_result"
    }
   ],
   "source": [
    "vn+vn"
   ]
  },
  {
   "cell_type": "code",
   "execution_count": 8,
   "id": "ab771cf3",
   "metadata": {},
   "outputs": [
    {
     "data": {
      "text/plain": [
       "array([0, 0, 0])"
      ]
     },
     "execution_count": 8,
     "metadata": {},
     "output_type": "execute_result"
    }
   ],
   "source": [
    "vn-vn"
   ]
  },
  {
   "cell_type": "code",
   "execution_count": 9,
   "id": "4ab6f3b9",
   "metadata": {},
   "outputs": [
    {
     "data": {
      "text/plain": [
       "array([10, 20, 30])"
      ]
     },
     "execution_count": 9,
     "metadata": {},
     "output_type": "execute_result"
    }
   ],
   "source": [
    "vn*10"
   ]
  },
  {
   "cell_type": "markdown",
   "id": "4c9df409",
   "metadata": {},
   "source": [
    "**Dot product**"
   ]
  },
  {
   "cell_type": "code",
   "execution_count": 10,
   "id": "896ef0db",
   "metadata": {},
   "outputs": [
    {
     "data": {
      "text/plain": [
       "14"
      ]
     },
     "execution_count": 10,
     "metadata": {},
     "output_type": "execute_result"
    }
   ],
   "source": [
    "np.dot(vn,vn)"
   ]
  },
  {
   "cell_type": "code",
   "execution_count": 11,
   "id": "4a7c318e",
   "metadata": {},
   "outputs": [
    {
     "data": {
      "text/plain": [
       "14"
      ]
     },
     "execution_count": 11,
     "metadata": {},
     "output_type": "execute_result"
    }
   ],
   "source": [
    "vn@vn"
   ]
  },
  {
   "cell_type": "markdown",
   "id": "7d3d8987",
   "metadata": {},
   "source": [
    "**Norm/Magnitude**"
   ]
  },
  {
   "cell_type": "code",
   "execution_count": 12,
   "id": "86aa7f16",
   "metadata": {},
   "outputs": [
    {
     "data": {
      "text/plain": [
       "6.0"
      ]
     },
     "execution_count": 12,
     "metadata": {},
     "output_type": "execute_result"
    }
   ],
   "source": [
    "norm(vn,1) #L1 Norm, the sum of the absolute vector values, Manhattan Distance"
   ]
  },
  {
   "cell_type": "code",
   "execution_count": 13,
   "id": "ef3a8049",
   "metadata": {},
   "outputs": [
    {
     "data": {
      "text/plain": [
       "3.7416573867739413"
      ]
     },
     "execution_count": 13,
     "metadata": {},
     "output_type": "execute_result"
    }
   ],
   "source": [
    "norm(vn) #L2 Norm, calculates the distance of the vector coordinate from the origin of the vector, Euclidean distance"
   ]
  },
  {
   "cell_type": "code",
   "execution_count": 14,
   "id": "088730a5",
   "metadata": {},
   "outputs": [
    {
     "data": {
      "text/plain": [
       "3.0"
      ]
     },
     "execution_count": 14,
     "metadata": {},
     "output_type": "execute_result"
    }
   ],
   "source": [
    "norm(vn,np.inf)#max norm, max value in vector"
   ]
  },
  {
   "cell_type": "code",
   "execution_count": null,
   "id": "4553fda7",
   "metadata": {},
   "outputs": [],
   "source": []
  },
  {
   "cell_type": "markdown",
   "id": "2df1858f",
   "metadata": {},
   "source": [
    "### Matrix"
   ]
  },
  {
   "cell_type": "markdown",
   "id": "1c8ba642",
   "metadata": {},
   "source": [
    "**Transpose matrix**"
   ]
  },
  {
   "cell_type": "code",
   "execution_count": 15,
   "id": "04fa62da",
   "metadata": {},
   "outputs": [
    {
     "data": {
      "text/plain": [
       "array([[14, 11],\n",
       "       [13, 15],\n",
       "       [18, 18]])"
      ]
     },
     "execution_count": 15,
     "metadata": {},
     "output_type": "execute_result"
    }
   ],
   "source": [
    "A=np.random.randint(10,20,(3,2))\n",
    "A # A 3 rows, 2 columns"
   ]
  },
  {
   "cell_type": "code",
   "execution_count": 16,
   "id": "c3a3bb5c",
   "metadata": {},
   "outputs": [
    {
     "data": {
      "text/plain": [
       "array([[14, 11],\n",
       "       [13, 15],\n",
       "       [18, 18]])"
      ]
     },
     "execution_count": 16,
     "metadata": {},
     "output_type": "execute_result"
    }
   ],
   "source": [
    "(A.T).T"
   ]
  },
  {
   "cell_type": "markdown",
   "id": "2b7f4a5d",
   "metadata": {},
   "source": [
    "**Type of matrix**"
   ]
  },
  {
   "cell_type": "code",
   "execution_count": 17,
   "id": "d7e9f4f7",
   "metadata": {},
   "outputs": [
    {
     "data": {
      "text/plain": [
       "array([[19, 11, 10],\n",
       "       [12, 15, 10],\n",
       "       [19, 10, 19]])"
      ]
     },
     "execution_count": 17,
     "metadata": {},
     "output_type": "execute_result"
    }
   ],
   "source": [
    "T=np.random.randint(10,20,(3,3))\n",
    "T"
   ]
  },
  {
   "cell_type": "code",
   "execution_count": 18,
   "id": "04c00fa4",
   "metadata": {},
   "outputs": [
    {
     "data": {
      "text/plain": [
       "array([[19, 11, 10],\n",
       "       [ 0, 15, 10],\n",
       "       [ 0,  0, 19]])"
      ]
     },
     "execution_count": 18,
     "metadata": {},
     "output_type": "execute_result"
    }
   ],
   "source": [
    "np.triu(T)"
   ]
  },
  {
   "cell_type": "code",
   "execution_count": 19,
   "id": "d3036bd0",
   "metadata": {},
   "outputs": [
    {
     "data": {
      "text/plain": [
       "array([[19,  0,  0],\n",
       "       [12, 15,  0],\n",
       "       [19, 10, 19]])"
      ]
     },
     "execution_count": 19,
     "metadata": {},
     "output_type": "execute_result"
    }
   ],
   "source": [
    "np.tril(T)"
   ]
  },
  {
   "cell_type": "code",
   "execution_count": 20,
   "id": "ca06bf73",
   "metadata": {},
   "outputs": [
    {
     "data": {
      "text/plain": [
       "array([19, 15, 19])"
      ]
     },
     "execution_count": 20,
     "metadata": {},
     "output_type": "execute_result"
    }
   ],
   "source": [
    "np.diag(T)"
   ]
  },
  {
   "cell_type": "markdown",
   "id": "55dcf94f",
   "metadata": {},
   "source": [
    "**Matrix multiphication**"
   ]
  },
  {
   "cell_type": "markdown",
   "id": "7551738f",
   "metadata": {},
   "source": [
    "**C(m,k)= A(m,n).B(n,k)**\n",
    "- A columns= B rows\n",
    "- result is matrix with m rows and k columns"
   ]
  },
  {
   "cell_type": "code",
   "execution_count": 21,
   "id": "41918bf9",
   "metadata": {},
   "outputs": [
    {
     "data": {
      "text/plain": [
       "array([[1, 2],\n",
       "       [3, 4],\n",
       "       [5, 6]])"
      ]
     },
     "execution_count": 21,
     "metadata": {},
     "output_type": "execute_result"
    }
   ],
   "source": [
    "A=np.array([[1,2],[3,4],[5,6]])\n",
    "A # A 3 rows, 2 columns"
   ]
  },
  {
   "cell_type": "code",
   "execution_count": 22,
   "id": "2abc9b15",
   "metadata": {},
   "outputs": [
    {
     "data": {
      "text/plain": [
       "array([[1, 2],\n",
       "       [3, 4]])"
      ]
     },
     "execution_count": 22,
     "metadata": {},
     "output_type": "execute_result"
    }
   ],
   "source": [
    "B=np.array([[1,2],[3,4]])\n",
    "B # 2 rows, 2 columns"
   ]
  },
  {
   "cell_type": "code",
   "execution_count": 23,
   "id": "b1837574",
   "metadata": {},
   "outputs": [
    {
     "data": {
      "text/plain": [
       "array([1, 2])"
      ]
     },
     "execution_count": 23,
     "metadata": {},
     "output_type": "execute_result"
    }
   ],
   "source": [
    "A[0] # 1st row"
   ]
  },
  {
   "cell_type": "code",
   "execution_count": 24,
   "id": "01436da0",
   "metadata": {},
   "outputs": [
    {
     "data": {
      "text/plain": [
       "array([1, 3])"
      ]
     },
     "execution_count": 24,
     "metadata": {},
     "output_type": "execute_result"
    }
   ],
   "source": [
    "B.T[0] # 1st columns"
   ]
  },
  {
   "cell_type": "code",
   "execution_count": 25,
   "id": "82aec9c8",
   "metadata": {},
   "outputs": [
    {
     "data": {
      "text/plain": [
       "7"
      ]
     },
     "execution_count": 25,
     "metadata": {},
     "output_type": "execute_result"
    }
   ],
   "source": [
    "A[0].dot(B.T[0]) # 1st value in 1st row"
   ]
  },
  {
   "cell_type": "code",
   "execution_count": 26,
   "id": "8fef02ac",
   "metadata": {},
   "outputs": [
    {
     "data": {
      "text/plain": [
       "10"
      ]
     },
     "execution_count": 26,
     "metadata": {},
     "output_type": "execute_result"
    }
   ],
   "source": [
    "A[0].dot(B.T[1]) # 2nd value in 1st row"
   ]
  },
  {
   "cell_type": "code",
   "execution_count": 27,
   "id": "913203d8",
   "metadata": {},
   "outputs": [
    {
     "data": {
      "text/plain": [
       "array([[ 7, 10],\n",
       "       [15, 22],\n",
       "       [23, 34]])"
      ]
     },
     "execution_count": 27,
     "metadata": {},
     "output_type": "execute_result"
    }
   ],
   "source": [
    "A@B"
   ]
  },
  {
   "cell_type": "code",
   "execution_count": 28,
   "id": "1b5eacab",
   "metadata": {},
   "outputs": [
    {
     "data": {
      "text/plain": [
       "array([[ 7, 10],\n",
       "       [15, 22],\n",
       "       [23, 34]])"
      ]
     },
     "execution_count": 28,
     "metadata": {},
     "output_type": "execute_result"
    }
   ],
   "source": [
    "np.matmul(A,B)"
   ]
  },
  {
   "cell_type": "markdown",
   "id": "b5f3485f",
   "metadata": {},
   "source": [
    "**Determinant**\n",
    "- The determinant of a square matrix is a scalar representation of the volume of the matrix.\n",
    "- Determinant describes the way a matrix will scale another matrix when they are multiplied together"
   ]
  },
  {
   "cell_type": "code",
   "execution_count": 29,
   "id": "662af6ab",
   "metadata": {},
   "outputs": [
    {
     "data": {
      "text/plain": [
       "1447.0"
      ]
     },
     "execution_count": 29,
     "metadata": {},
     "output_type": "execute_result"
    }
   ],
   "source": [
    "det(T)"
   ]
  },
  {
   "cell_type": "markdown",
   "id": "b16c0923",
   "metadata": {},
   "source": [
    "**Rank**\n",
    "- The rank of a matrix is the estimate of the number of linearly independent rows or columns in a matrix.\n",
    "- Rank is not the number of dimensions of the matrix"
   ]
  },
  {
   "cell_type": "code",
   "execution_count": 30,
   "id": "fe75c1b5",
   "metadata": {},
   "outputs": [
    {
     "data": {
      "text/plain": [
       "3"
      ]
     },
     "execution_count": 30,
     "metadata": {},
     "output_type": "execute_result"
    }
   ],
   "source": [
    "matrix_rank(T)"
   ]
  },
  {
   "cell_type": "markdown",
   "id": "04aa6de7",
   "metadata": {},
   "source": [
    "**Inverse**"
   ]
  },
  {
   "cell_type": "code",
   "execution_count": 31,
   "id": "4ae7ded9",
   "metadata": {},
   "outputs": [],
   "source": [
    "C=np.array([[1,2,5],[3,4,4],[5,6,6]])"
   ]
  },
  {
   "cell_type": "code",
   "execution_count": 32,
   "id": "140551a5",
   "metadata": {},
   "outputs": [
    {
     "data": {
      "text/plain": [
       "array([[ 0.        , -3.        ,  2.        ],\n",
       "       [-0.33333333,  3.16666667, -1.83333333],\n",
       "       [ 0.33333333, -0.66666667,  0.33333333]])"
      ]
     },
     "execution_count": 32,
     "metadata": {},
     "output_type": "execute_result"
    }
   ],
   "source": [
    "C1= inv(C)\n",
    "C1"
   ]
  },
  {
   "cell_type": "code",
   "execution_count": 33,
   "id": "bad6233f",
   "metadata": {},
   "outputs": [
    {
     "data": {
      "text/plain": [
       "array([[ 1.,  0.,  0.],\n",
       "       [ 0.,  1., -0.],\n",
       "       [-0.,  0.,  1.]])"
      ]
     },
     "execution_count": 33,
     "metadata": {},
     "output_type": "execute_result"
    }
   ],
   "source": [
    "(C@C1).round(1)"
   ]
  },
  {
   "cell_type": "code",
   "execution_count": 34,
   "id": "7ad29199",
   "metadata": {},
   "outputs": [
    {
     "data": {
      "text/plain": [
       "0.9999999999999999"
      ]
     },
     "execution_count": 34,
     "metadata": {},
     "output_type": "execute_result"
    }
   ],
   "source": [
    "C[0].dot(C1.T[0])"
   ]
  },
  {
   "cell_type": "code",
   "execution_count": 35,
   "id": "bcd4572d",
   "metadata": {},
   "outputs": [],
   "source": [
    "I= np.array([[1,0,0],[0,1,0],[0,0,1]])"
   ]
  },
  {
   "cell_type": "code",
   "execution_count": 36,
   "id": "028538df",
   "metadata": {},
   "outputs": [
    {
     "data": {
      "text/plain": [
       "1"
      ]
     },
     "execution_count": 36,
     "metadata": {},
     "output_type": "execute_result"
    }
   ],
   "source": [
    "C[0].dot(I.T[0])"
   ]
  },
  {
   "cell_type": "markdown",
   "id": "e6441dac",
   "metadata": {},
   "source": [
    "### Sparse Matrix"
   ]
  },
  {
   "cell_type": "markdown",
   "id": "1662da0f",
   "metadata": {},
   "source": [
    "- A sparse matrix is a matrix that is comprised of mostly zero values. \n",
    "- Sparse matrices are distinct from matrices with mostly non-zero values, which are referred to as dense matrices"
   ]
  },
  {
   "cell_type": "code",
   "execution_count": 37,
   "id": "dbac22d6",
   "metadata": {},
   "outputs": [],
   "source": [
    "sp=np.array([[8,0,0,6,0,0],[0,0,9,0,0,4],[0,0,0,3,0,0]])"
   ]
  },
  {
   "cell_type": "code",
   "execution_count": 38,
   "id": "aa8fb78b",
   "metadata": {},
   "outputs": [
    {
     "name": "stdout",
     "output_type": "stream",
     "text": [
      "  (0, 0)\t8\n",
      "  (0, 3)\t6\n",
      "  (1, 2)\t9\n",
      "  (1, 5)\t4\n",
      "  (2, 3)\t3\n"
     ]
    }
   ],
   "source": [
    "csr= sparse.csr_matrix(sp) # matrix --> CSR format\n",
    "print(csr)"
   ]
  },
  {
   "cell_type": "code",
   "execution_count": 39,
   "id": "2f1f35e1",
   "metadata": {},
   "outputs": [
    {
     "data": {
      "text/plain": [
       "array([8, 6, 9, 4, 3], dtype=int32)"
      ]
     },
     "execution_count": 39,
     "metadata": {},
     "output_type": "execute_result"
    }
   ],
   "source": [
    "csr.data # all non-zero data in the matrix "
   ]
  },
  {
   "cell_type": "code",
   "execution_count": 40,
   "id": "0af9b473",
   "metadata": {},
   "outputs": [
    {
     "data": {
      "text/plain": [
       "array([0, 3, 2, 5, 3], dtype=int32)"
      ]
     },
     "execution_count": 40,
     "metadata": {},
     "output_type": "execute_result"
    }
   ],
   "source": [
    "csr.indices # column position of all non-zero data in matrix"
   ]
  },
  {
   "cell_type": "code",
   "execution_count": 41,
   "id": "c8e1b331",
   "metadata": {},
   "outputs": [
    {
     "data": {
      "text/plain": [
       "array([0, 2, 4, 5], dtype=int32)"
      ]
     },
     "execution_count": 41,
     "metadata": {},
     "output_type": "execute_result"
    }
   ],
   "source": [
    "csr.indptr \n",
    "# for each row, correspondent position of first non-zero value in data, length of data"
   ]
  },
  {
   "cell_type": "code",
   "execution_count": 42,
   "id": "1523c660",
   "metadata": {},
   "outputs": [
    {
     "data": {
      "text/plain": [
       "matrix([[8, 0, 0, 6, 0, 0],\n",
       "        [0, 0, 9, 0, 0, 4],\n",
       "        [0, 0, 0, 3, 0, 0]], dtype=int32)"
      ]
     },
     "execution_count": 42,
     "metadata": {},
     "output_type": "execute_result"
    }
   ],
   "source": [
    "csr.todense() # convert to spare matrix from csr"
   ]
  },
  {
   "cell_type": "code",
   "execution_count": 43,
   "id": "e367a82c",
   "metadata": {},
   "outputs": [
    {
     "data": {
      "text/plain": [
       "array([0, 2, 4, 5], dtype=int32)"
      ]
     },
     "execution_count": 43,
     "metadata": {},
     "output_type": "execute_result"
    }
   ],
   "source": [
    "csr_from_shape=sparse.csr_matrix((csr.data,csr.indices,csr.indptr),shape=(3,10)) \n",
    "# csr format (explicit shape) --> CSR format\n",
    "csr_from_shape.indptr"
   ]
  }
 ],
 "metadata": {
  "kernelspec": {
   "display_name": "Python 3",
   "language": "python",
   "name": "python3"
  },
  "language_info": {
   "codemirror_mode": {
    "name": "ipython",
    "version": 3
   },
   "file_extension": ".py",
   "mimetype": "text/x-python",
   "name": "python",
   "nbconvert_exporter": "python",
   "pygments_lexer": "ipython3",
   "version": "3.8.5"
  }
 },
 "nbformat": 4,
 "nbformat_minor": 5
}
