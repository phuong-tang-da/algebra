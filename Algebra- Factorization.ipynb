{
 "cells": [
  {
   "cell_type": "code",
   "execution_count": 1,
   "id": "f20627f4",
   "metadata": {},
   "outputs": [],
   "source": [
    "import numpy as np\n",
    "from numpy.linalg import inv\n",
    "import random\n",
    "import scipy\n",
    "from scipy import linalg#LU decomposition\n",
    "import sklearn # Dimensionality reduce\n",
    "from sklearn import decomposition # Dimensionality reduce with SVD"
   ]
  },
  {
   "cell_type": "code",
   "execution_count": 2,
   "id": "7c6631b3",
   "metadata": {},
   "outputs": [],
   "source": [
    "I= np.identity(3)"
   ]
  },
  {
   "cell_type": "markdown",
   "id": "17530c1d",
   "metadata": {},
   "source": [
    "# Matrix Decomposition/Factorization"
   ]
  },
  {
   "cell_type": "markdown",
   "id": "5dc35130",
   "metadata": {},
   "source": [
    "**Matrix decompositions are methods that reduce a matrix into constituent\n",
    "parts that make it easier to calculate more complex matrix operations**"
   ]
  },
  {
   "cell_type": "markdown",
   "id": "d6f57711",
   "metadata": {},
   "source": [
    "### 1. LU Decomposition\n",
    "**A = L · U · P**\n",
    "- The LU decomposition is for **square matrices** and decomposes a matrix into L and U components (**L is lower triangle** and **U is Upper Triangle**)\n",
    "- LU decomposition can fail for those matrices that cannot be decomposed or decomposed easily --> LU decomposition with partial pivoting."
   ]
  },
  {
   "cell_type": "code",
   "execution_count": 3,
   "id": "1ae811e0",
   "metadata": {},
   "outputs": [
    {
     "data": {
      "text/plain": [
       "array([[1, 2, 3],\n",
       "       [4, 5, 6],\n",
       "       [7, 8, 9]])"
      ]
     },
     "execution_count": 3,
     "metadata": {},
     "output_type": "execute_result"
    }
   ],
   "source": [
    "A= np.array([[1,2,3],[4,5,6],[7,8,9]])\n",
    "A"
   ]
  },
  {
   "cell_type": "code",
   "execution_count": 4,
   "id": "92bca988",
   "metadata": {},
   "outputs": [],
   "source": [
    "P,L,U= scipy.linalg.lu(A) # LU decomposition"
   ]
  },
  {
   "cell_type": "code",
   "execution_count": 5,
   "id": "921f5d98",
   "metadata": {},
   "outputs": [
    {
     "data": {
      "text/plain": [
       "array([[0., 1., 0.],\n",
       "       [0., 0., 1.],\n",
       "       [1., 0., 0.]])"
      ]
     },
     "execution_count": 5,
     "metadata": {},
     "output_type": "execute_result"
    }
   ],
   "source": [
    "P"
   ]
  },
  {
   "cell_type": "code",
   "execution_count": 6,
   "id": "8a800fae",
   "metadata": {},
   "outputs": [
    {
     "data": {
      "text/plain": [
       "array([[1.        , 0.        , 0.        ],\n",
       "       [0.14285714, 1.        , 0.        ],\n",
       "       [0.57142857, 0.5       , 1.        ]])"
      ]
     },
     "execution_count": 6,
     "metadata": {},
     "output_type": "execute_result"
    }
   ],
   "source": [
    "L"
   ]
  },
  {
   "cell_type": "code",
   "execution_count": 7,
   "id": "a39e0f3f",
   "metadata": {},
   "outputs": [
    {
     "data": {
      "text/plain": [
       "array([[7.        , 8.        , 9.        ],\n",
       "       [0.        , 0.85714286, 1.71428571],\n",
       "       [0.        , 0.        , 0.        ]])"
      ]
     },
     "execution_count": 7,
     "metadata": {},
     "output_type": "execute_result"
    }
   ],
   "source": [
    "U"
   ]
  },
  {
   "cell_type": "markdown",
   "id": "c393b386",
   "metadata": {},
   "source": [
    "Reconstruct Matrix"
   ]
  },
  {
   "cell_type": "code",
   "execution_count": 8,
   "id": "31babbdf",
   "metadata": {},
   "outputs": [
    {
     "data": {
      "text/plain": [
       "array([[1., 2., 3.],\n",
       "       [4., 5., 6.],\n",
       "       [7., 8., 9.]])"
      ]
     },
     "execution_count": 8,
     "metadata": {},
     "output_type": "execute_result"
    }
   ],
   "source": [
    "P@L@U"
   ]
  },
  {
   "cell_type": "code",
   "execution_count": 9,
   "id": "130fff23",
   "metadata": {},
   "outputs": [
    {
     "name": "stderr",
     "output_type": "stream",
     "text": [
      "<ipython-input-9-28c89a10a3d4>:1: LinAlgWarning: Diagonal number 3 is exactly zero. Singular matrix.\n",
      "  scipy.linalg.lu_factor(A) #LU_factor\n"
     ]
    },
    {
     "data": {
      "text/plain": [
       "(array([[7.        , 8.        , 9.        ],\n",
       "        [0.14285714, 0.85714286, 1.71428571],\n",
       "        [0.57142857, 0.5       , 0.        ]]),\n",
       " array([2, 2, 2], dtype=int32))"
      ]
     },
     "execution_count": 9,
     "metadata": {},
     "output_type": "execute_result"
    }
   ],
   "source": [
    "scipy.linalg.lu_factor(A) #LU_factor"
   ]
  },
  {
   "cell_type": "markdown",
   "id": "7dfca679",
   "metadata": {},
   "source": [
    "Another decomposition but only return values"
   ]
  },
  {
   "cell_type": "code",
   "execution_count": 10,
   "id": "dfedadab",
   "metadata": {},
   "outputs": [
    {
     "name": "stderr",
     "output_type": "stream",
     "text": [
      "<ipython-input-10-7ffa236cb0ed>:1: LinAlgWarning: Diagonal number 3 is exactly zero. Singular matrix.\n",
      "  LU= scipy.linalg.lu_factor(A)[0]\n"
     ]
    }
   ],
   "source": [
    "LU= scipy.linalg.lu_factor(A)[0]"
   ]
  },
  {
   "cell_type": "code",
   "execution_count": 11,
   "id": "0823b2df",
   "metadata": {},
   "outputs": [
    {
     "data": {
      "text/plain": [
       "array([[7.        , 8.        , 9.        ],\n",
       "       [0.        , 0.85714286, 1.71428571],\n",
       "       [0.        , 0.        , 0.        ]])"
      ]
     },
     "execution_count": 11,
     "metadata": {},
     "output_type": "execute_result"
    }
   ],
   "source": [
    "U=np.triu(LU)\n",
    "U"
   ]
  },
  {
   "cell_type": "code",
   "execution_count": 12,
   "id": "a1a3c426",
   "metadata": {},
   "outputs": [
    {
     "data": {
      "text/plain": [
       "array([[1.        , 0.        , 0.        ],\n",
       "       [0.14285714, 1.        , 0.        ],\n",
       "       [0.57142857, 0.5       , 1.        ]])"
      ]
     },
     "execution_count": 12,
     "metadata": {},
     "output_type": "execute_result"
    }
   ],
   "source": [
    "L=LU-U+I\n",
    "L"
   ]
  },
  {
   "cell_type": "markdown",
   "id": "c8c96232",
   "metadata": {},
   "source": [
    "### 2. QR Decomposition\n",
    "**A = Q · R**\n",
    "- QR decomposition is for **n × m matrices** (not limited to square matrices) and decomposes a matrix into **Q and R components**\n",
    "- As with LU decomposition, It can be used to solve systems of linear equations like least square problems and to find eigenvalues of a general matrix."
   ]
  },
  {
   "cell_type": "code",
   "execution_count": 13,
   "id": "7eb16819",
   "metadata": {},
   "outputs": [
    {
     "data": {
      "text/plain": [
       "array([[1, 2],\n",
       "       [3, 4],\n",
       "       [5, 6]])"
      ]
     },
     "execution_count": 13,
     "metadata": {},
     "output_type": "execute_result"
    }
   ],
   "source": [
    "A= np.array([[1,2],[3,4],[5,6]])\n",
    "A # 3 row 2 col"
   ]
  },
  {
   "cell_type": "code",
   "execution_count": 14,
   "id": "61da08a2",
   "metadata": {},
   "outputs": [],
   "source": [
    "Q,R= np.linalg.qr(A, 'complete')"
   ]
  },
  {
   "cell_type": "code",
   "execution_count": 15,
   "id": "032dc00a",
   "metadata": {},
   "outputs": [
    {
     "data": {
      "text/plain": [
       "array([[-0.16903085,  0.89708523,  0.40824829],\n",
       "       [-0.50709255,  0.27602622, -0.81649658],\n",
       "       [-0.84515425, -0.34503278,  0.40824829]])"
      ]
     },
     "execution_count": 15,
     "metadata": {},
     "output_type": "execute_result"
    }
   ],
   "source": [
    "Q  #square of 3 rows"
   ]
  },
  {
   "cell_type": "code",
   "execution_count": 16,
   "id": "ce590620",
   "metadata": {},
   "outputs": [
    {
     "data": {
      "text/plain": [
       "array([[-5.91607978, -7.43735744],\n",
       "       [ 0.        ,  0.82807867],\n",
       "       [ 0.        ,  0.        ]])"
      ]
     },
     "execution_count": 16,
     "metadata": {},
     "output_type": "execute_result"
    }
   ],
   "source": [
    "R # 3 row, 2 cols"
   ]
  },
  {
   "cell_type": "markdown",
   "id": "c0e5de3d",
   "metadata": {},
   "source": [
    "Reconstruct matrix"
   ]
  },
  {
   "cell_type": "code",
   "execution_count": 17,
   "id": "b6eb3b01",
   "metadata": {},
   "outputs": [
    {
     "data": {
      "text/plain": [
       "array([[1., 2.],\n",
       "       [3., 4.],\n",
       "       [5., 6.]])"
      ]
     },
     "execution_count": 17,
     "metadata": {},
     "output_type": "execute_result"
    }
   ],
   "source": [
    "Q@R"
   ]
  },
  {
   "cell_type": "markdown",
   "id": "1fd3d319",
   "metadata": {},
   "source": [
    "### 3. Cholesky Decomposition\n",
    "- The Cholesky decomposition is for **square symmetric matrices** where all values are greater than zero, so-called **positive definite matrices**\n",
    "- Cholesky decomposition is nearly twice as efficient as the LU decomposition "
   ]
  },
  {
   "cell_type": "code",
   "execution_count": 18,
   "id": "7f136c27",
   "metadata": {},
   "outputs": [],
   "source": [
    "A= np.array([[2,1,1],[1,2,1],[1,1,2]])"
   ]
  },
  {
   "cell_type": "code",
   "execution_count": 19,
   "id": "8dc97d49",
   "metadata": {},
   "outputs": [
    {
     "data": {
      "text/plain": [
       "array([[2, 1, 1],\n",
       "       [1, 2, 1],\n",
       "       [1, 1, 2]])"
      ]
     },
     "execution_count": 19,
     "metadata": {},
     "output_type": "execute_result"
    }
   ],
   "source": [
    "A"
   ]
  },
  {
   "cell_type": "code",
   "execution_count": 20,
   "id": "f7f193b4",
   "metadata": {},
   "outputs": [
    {
     "data": {
      "text/plain": [
       "array([[1.41421356, 0.        , 0.        ],\n",
       "       [0.70710678, 1.22474487, 0.        ],\n",
       "       [0.70710678, 0.40824829, 1.15470054]])"
      ]
     },
     "execution_count": 20,
     "metadata": {},
     "output_type": "execute_result"
    }
   ],
   "source": [
    "L= np.linalg.cholesky(A)\n",
    "L"
   ]
  },
  {
   "cell_type": "markdown",
   "id": "ea2565e7",
   "metadata": {},
   "source": [
    "Construct matrix"
   ]
  },
  {
   "cell_type": "code",
   "execution_count": 21,
   "id": "9fcf96dc",
   "metadata": {},
   "outputs": [
    {
     "data": {
      "text/plain": [
       "array([[2., 1., 1.],\n",
       "       [1., 2., 1.],\n",
       "       [1., 1., 2.]])"
      ]
     },
     "execution_count": 21,
     "metadata": {},
     "output_type": "execute_result"
    }
   ],
   "source": [
    "L@(L.T)"
   ]
  },
  {
   "cell_type": "markdown",
   "id": "1ed8d32b",
   "metadata": {},
   "source": [
    "### 4. Eigendecomposition\n",
    "- **A = Q · Λ · QT** Q: vectors, Λ: diagonal matrix of values\n",
    "- decomposing a square matrix into a set of **eigenvectors** and **eigenvalues**\n",
    "- **Eigenvectors (v)** are unit vectors, which means that their length or magnitude is equal to 1.0. They are often referred as right vectors, which simply means a column vector **A@v = λ*v**\n",
    "- **Eigenvalues (λ)** are coefficients applied to eigenvectors that give the vectors their length or magnitude\n",
    "- A matrix that has only positive eigenvalues is referred to as a positive definite matrix, whereas if the eigenvalues are all negative, it is referred to as a negative definite matrix."
   ]
  },
  {
   "cell_type": "code",
   "execution_count": 22,
   "id": "f99b8427",
   "metadata": {},
   "outputs": [
    {
     "data": {
      "text/plain": [
       "array([[2, 1, 1],\n",
       "       [1, 2, 1],\n",
       "       [1, 1, 2]])"
      ]
     },
     "execution_count": 22,
     "metadata": {},
     "output_type": "execute_result"
    }
   ],
   "source": [
    "A"
   ]
  },
  {
   "cell_type": "code",
   "execution_count": 23,
   "id": "cc265543",
   "metadata": {},
   "outputs": [],
   "source": [
    "values, vectors= np.linalg.eig(A) # factorize"
   ]
  },
  {
   "cell_type": "code",
   "execution_count": 24,
   "id": "ad3ba23c",
   "metadata": {},
   "outputs": [
    {
     "data": {
      "text/plain": [
       "array([1., 4., 1.])"
      ]
     },
     "execution_count": 24,
     "metadata": {},
     "output_type": "execute_result"
    }
   ],
   "source": [
    "values #λ"
   ]
  },
  {
   "cell_type": "code",
   "execution_count": 25,
   "id": "31d0619f",
   "metadata": {},
   "outputs": [
    {
     "data": {
      "text/plain": [
       "array([[-0.81649658,  0.57735027, -0.32444284],\n",
       "       [ 0.40824829,  0.57735027, -0.48666426],\n",
       "       [ 0.40824829,  0.57735027,  0.81110711]])"
      ]
     },
     "execution_count": 25,
     "metadata": {},
     "output_type": "execute_result"
    }
   ],
   "source": [
    "vectors #v"
   ]
  },
  {
   "cell_type": "markdown",
   "id": "d4828f8a",
   "metadata": {},
   "source": [
    "Confirm A@v = λ*v"
   ]
  },
  {
   "cell_type": "code",
   "execution_count": 26,
   "id": "4da0493a",
   "metadata": {},
   "outputs": [
    {
     "data": {
      "text/plain": [
       "array([-0.81649658,  0.40824829,  0.40824829])"
      ]
     },
     "execution_count": 26,
     "metadata": {},
     "output_type": "execute_result"
    }
   ],
   "source": [
    "vectors[:,0] # (v) 1st column"
   ]
  },
  {
   "cell_type": "code",
   "execution_count": 28,
   "id": "9c23daaa",
   "metadata": {},
   "outputs": [
    {
     "data": {
      "text/plain": [
       "array([-0.81649658,  0.40824829,  0.40824829])"
      ]
     },
     "execution_count": 28,
     "metadata": {},
     "output_type": "execute_result"
    }
   ],
   "source": [
    "A@vectors[:,0]# confirming A@v "
   ]
  },
  {
   "cell_type": "code",
   "execution_count": 29,
   "id": "afc47ffb",
   "metadata": {},
   "outputs": [
    {
     "data": {
      "text/plain": [
       "array([-0.81649658,  0.40824829,  0.40824829])"
      ]
     },
     "execution_count": 29,
     "metadata": {},
     "output_type": "execute_result"
    }
   ],
   "source": [
    "values[0]*vectors[:,0]# confirming λv"
   ]
  },
  {
   "cell_type": "markdown",
   "id": "299c2b7c",
   "metadata": {},
   "source": [
    "Reconstruct matrix"
   ]
  },
  {
   "cell_type": "code",
   "execution_count": 30,
   "id": "dd0dcaee",
   "metadata": {},
   "outputs": [
    {
     "data": {
      "text/plain": [
       "array([[-0.81649658,  0.57735027, -0.32444284],\n",
       "       [ 0.40824829,  0.57735027, -0.48666426],\n",
       "       [ 0.40824829,  0.57735027,  0.81110711]])"
      ]
     },
     "execution_count": 30,
     "metadata": {},
     "output_type": "execute_result"
    }
   ],
   "source": [
    "Q= vectors\n",
    "Q"
   ]
  },
  {
   "cell_type": "code",
   "execution_count": 31,
   "id": "6b705c17",
   "metadata": {},
   "outputs": [
    {
     "data": {
      "text/plain": [
       "array([[-8.16496581e-01,  7.14434508e-01,  1.02062073e-01],\n",
       "       [ 5.77350269e-01,  5.77350269e-01,  5.77350269e-01],\n",
       "       [-3.79911345e-32, -7.70551750e-01,  7.70551750e-01]])"
      ]
     },
     "execution_count": 31,
     "metadata": {},
     "output_type": "execute_result"
    }
   ],
   "source": [
    "R= inv(Q)\n",
    "R"
   ]
  },
  {
   "cell_type": "code",
   "execution_count": 32,
   "id": "f77853bf",
   "metadata": {},
   "outputs": [
    {
     "data": {
      "text/plain": [
       "array([[1., 0., 0.],\n",
       "       [0., 4., 0.],\n",
       "       [0., 0., 1.]])"
      ]
     },
     "execution_count": 32,
     "metadata": {},
     "output_type": "execute_result"
    }
   ],
   "source": [
    "L= np.diag(values)\n",
    "L"
   ]
  },
  {
   "cell_type": "code",
   "execution_count": 33,
   "id": "6b98f01b",
   "metadata": {},
   "outputs": [
    {
     "data": {
      "text/plain": [
       "array([[2., 1., 1.],\n",
       "       [1., 2., 1.],\n",
       "       [1., 1., 2.]])"
      ]
     },
     "execution_count": 33,
     "metadata": {},
     "output_type": "execute_result"
    }
   ],
   "source": [
    "Q@L@R"
   ]
  },
  {
   "cell_type": "markdown",
   "id": "0e4186e8",
   "metadata": {},
   "source": [
    "### 5. Singular- value Decomposition (SVD)\n",
    "- **A = U · Σ · Vt**\n",
    "- **A(m x n)** = U(m × m) · Σ(m × n) · V T (n × n)\n",
    "- **A** is the real n × m matrix \n",
    "- **U** is an m × m matrix\n",
    "- **Σ** is an m × n diagonal matrix\n",
    "- **Vt** is the V transpose of an n × n matrix "
   ]
  },
  {
   "cell_type": "code",
   "execution_count": 34,
   "id": "bdb77287",
   "metadata": {},
   "outputs": [],
   "source": [
    "A= np.array([\n",
    "    [1,2],\n",
    "    [3,4],\n",
    "    [5,6]]) # 3 x 2 matrix"
   ]
  },
  {
   "cell_type": "code",
   "execution_count": 35,
   "id": "9a435da9",
   "metadata": {},
   "outputs": [],
   "source": [
    "U, s, V= scipy.linalg.svd(A)"
   ]
  },
  {
   "cell_type": "code",
   "execution_count": 36,
   "id": "bb97bc4b",
   "metadata": {},
   "outputs": [
    {
     "data": {
      "text/plain": [
       "array([[-0.2298477 ,  0.88346102,  0.40824829],\n",
       "       [-0.52474482,  0.24078249, -0.81649658],\n",
       "       [-0.81964194, -0.40189603,  0.40824829]])"
      ]
     },
     "execution_count": 36,
     "metadata": {},
     "output_type": "execute_result"
    }
   ],
   "source": [
    "U # 3 x 3 matrix"
   ]
  },
  {
   "cell_type": "code",
   "execution_count": 37,
   "id": "292acd13",
   "metadata": {},
   "outputs": [
    {
     "data": {
      "text/plain": [
       "array([9.52551809, 0.51430058])"
      ]
     },
     "execution_count": 37,
     "metadata": {},
     "output_type": "execute_result"
    }
   ],
   "source": [
    "s # 2 elements of diagonal matrix"
   ]
  },
  {
   "cell_type": "code",
   "execution_count": 38,
   "id": "75f9a0cc",
   "metadata": {},
   "outputs": [
    {
     "data": {
      "text/plain": [
       "array([[-0.61962948, -0.78489445],\n",
       "       [-0.78489445,  0.61962948]])"
      ]
     },
     "execution_count": 38,
     "metadata": {},
     "output_type": "execute_result"
    }
   ],
   "source": [
    "V # 2 x 2 matrix"
   ]
  },
  {
   "cell_type": "markdown",
   "id": "03d7ddcc",
   "metadata": {},
   "source": [
    "Reconstruct matrix"
   ]
  },
  {
   "cell_type": "code",
   "execution_count": 39,
   "id": "20d59172",
   "metadata": {},
   "outputs": [
    {
     "data": {
      "text/plain": [
       "(3, 2)"
      ]
     },
     "execution_count": 39,
     "metadata": {},
     "output_type": "execute_result"
    }
   ],
   "source": [
    "A.shape"
   ]
  },
  {
   "cell_type": "code",
   "execution_count": 40,
   "id": "2293e0cc",
   "metadata": {},
   "outputs": [
    {
     "data": {
      "text/plain": [
       "array([[0., 0.],\n",
       "       [0., 0.],\n",
       "       [0., 0.]])"
      ]
     },
     "execution_count": 40,
     "metadata": {},
     "output_type": "execute_result"
    }
   ],
   "source": [
    "sigma= np.zeros((3,2)) # create Σ(m × n)\n",
    "sigma"
   ]
  },
  {
   "cell_type": "code",
   "execution_count": 41,
   "id": "fb988ec1",
   "metadata": {},
   "outputs": [
    {
     "data": {
      "text/plain": [
       "array([[9.52551809, 0.        ],\n",
       "       [0.        , 0.51430058]])"
      ]
     },
     "execution_count": 41,
     "metadata": {},
     "output_type": "execute_result"
    }
   ],
   "source": [
    "np.diag(s)"
   ]
  },
  {
   "cell_type": "code",
   "execution_count": 42,
   "id": "eab81182",
   "metadata": {},
   "outputs": [
    {
     "data": {
      "text/plain": [
       "array([[9.52551809, 0.        ],\n",
       "       [0.        , 0.51430058],\n",
       "       [0.        , 0.        ]])"
      ]
     },
     "execution_count": 42,
     "metadata": {},
     "output_type": "execute_result"
    }
   ],
   "source": [
    "sigma[:2,:2]=np.diag(s)\n",
    "sigma"
   ]
  },
  {
   "cell_type": "code",
   "execution_count": 43,
   "id": "f891df32",
   "metadata": {},
   "outputs": [
    {
     "data": {
      "text/plain": [
       "array([[1., 2.],\n",
       "       [3., 4.],\n",
       "       [5., 6.]])"
      ]
     },
     "execution_count": 43,
     "metadata": {},
     "output_type": "execute_result"
    }
   ],
   "source": [
    "U@sigma@V"
   ]
  },
  {
   "cell_type": "markdown",
   "id": "0c594c0f",
   "metadata": {},
   "source": [
    "### 6. Dimensionality Reduction\n",
    "- Data with a large number of features, such as more features (columns) than observations (rows) may be reduced to a smaller subset of features that are most relevant to the prediction problem.\n",
    "- To do this we can perform an SVD operation on the original data and select the top k largest singular values in Σ. These columns can be selected from Σ and the rows selected from V T\n",
    "- dense summary of the matrix or a projection T = U · Σk or T = A · VkT"
   ]
  },
  {
   "cell_type": "code",
   "execution_count": 44,
   "id": "c42246f7",
   "metadata": {},
   "outputs": [
    {
     "data": {
      "text/plain": [
       "array([[ 1,  2,  3,  4,  5,  6,  7,  8,  9, 10],\n",
       "       [11, 12, 13, 14, 15, 16, 17, 18, 19, 20],\n",
       "       [21, 22, 23, 24, 25, 26, 27, 28, 29, 30]])"
      ]
     },
     "execution_count": 44,
     "metadata": {},
     "output_type": "execute_result"
    }
   ],
   "source": [
    "A = np.array([\n",
    "[1,2,3,4,5,6,7,8,9,10],\n",
    "[11,12,13,14,15,16,17,18,19,20],\n",
    "[21,22,23,24,25,26,27,28,29,30]])\n",
    "A # 3 x 10"
   ]
  },
  {
   "cell_type": "code",
   "execution_count": 45,
   "id": "01719f04",
   "metadata": {},
   "outputs": [],
   "source": [
    "U,s,V= scipy.linalg.svd(A)"
   ]
  },
  {
   "cell_type": "code",
   "execution_count": 46,
   "id": "94d7a678",
   "metadata": {},
   "outputs": [
    {
     "data": {
      "text/plain": [
       "(3, 10)"
      ]
     },
     "execution_count": 46,
     "metadata": {},
     "output_type": "execute_result"
    }
   ],
   "source": [
    "A.shape"
   ]
  },
  {
   "cell_type": "code",
   "execution_count": 47,
   "id": "c42a0ee5",
   "metadata": {},
   "outputs": [
    {
     "data": {
      "text/plain": [
       "(3, 3)"
      ]
     },
     "execution_count": 47,
     "metadata": {},
     "output_type": "execute_result"
    }
   ],
   "source": [
    "U.shape"
   ]
  },
  {
   "cell_type": "code",
   "execution_count": 48,
   "id": "d00f5102",
   "metadata": {},
   "outputs": [
    {
     "data": {
      "text/plain": [
       "array([[0., 0., 0., 0., 0., 0., 0., 0., 0., 0.],\n",
       "       [0., 0., 0., 0., 0., 0., 0., 0., 0., 0.],\n",
       "       [0., 0., 0., 0., 0., 0., 0., 0., 0., 0.]])"
      ]
     },
     "execution_count": 48,
     "metadata": {},
     "output_type": "execute_result"
    }
   ],
   "source": [
    "sigma= np.zeros((3,10)) # create Σ(m × n)\n",
    "sigma"
   ]
  },
  {
   "cell_type": "code",
   "execution_count": 49,
   "id": "92283b68",
   "metadata": {},
   "outputs": [
    {
     "data": {
      "text/plain": [
       "(3, 10)"
      ]
     },
     "execution_count": 49,
     "metadata": {},
     "output_type": "execute_result"
    }
   ],
   "source": [
    "sigma[:3,:3] =np.diag(s)\n",
    "sigma.shape"
   ]
  },
  {
   "cell_type": "code",
   "execution_count": 50,
   "id": "d81bf952",
   "metadata": {},
   "outputs": [
    {
     "data": {
      "text/plain": [
       "(10, 10)"
      ]
     },
     "execution_count": 50,
     "metadata": {},
     "output_type": "execute_result"
    }
   ],
   "source": [
    "V.shape"
   ]
  },
  {
   "cell_type": "code",
   "execution_count": 51,
   "id": "a6af903f",
   "metadata": {},
   "outputs": [
    {
     "data": {
      "text/plain": [
       "array([[ 1.,  2.,  3.,  4.,  5.,  6.,  7.,  8.,  9., 10.],\n",
       "       [11., 12., 13., 14., 15., 16., 17., 18., 19., 20.],\n",
       "       [21., 22., 23., 24., 25., 26., 27., 28., 29., 30.]])"
      ]
     },
     "execution_count": 51,
     "metadata": {},
     "output_type": "execute_result"
    }
   ],
   "source": [
    "U@sigma@V"
   ]
  },
  {
   "cell_type": "markdown",
   "id": "366b207a",
   "metadata": {},
   "source": [
    "Select features manual"
   ]
  },
  {
   "cell_type": "code",
   "execution_count": 52,
   "id": "c2ea2aca",
   "metadata": {},
   "outputs": [],
   "source": [
    "n_elements= 2 # select features"
   ]
  },
  {
   "cell_type": "code",
   "execution_count": 56,
   "id": "0a2f14e6",
   "metadata": {},
   "outputs": [
    {
     "data": {
      "text/plain": [
       "(3, 3)"
      ]
     },
     "execution_count": 56,
     "metadata": {},
     "output_type": "execute_result"
    }
   ],
   "source": [
    "U.shape"
   ]
  },
  {
   "cell_type": "code",
   "execution_count": 53,
   "id": "f8998816",
   "metadata": {},
   "outputs": [
    {
     "data": {
      "text/plain": [
       "(3, 2)"
      ]
     },
     "execution_count": 53,
     "metadata": {},
     "output_type": "execute_result"
    }
   ],
   "source": [
    "sigma= sigma[:,:n_elements]\n",
    "sigma.shape # reduce number of cols of  Σk"
   ]
  },
  {
   "cell_type": "code",
   "execution_count": 55,
   "id": "af215ee5",
   "metadata": {},
   "outputs": [
    {
     "data": {
      "text/plain": [
       "(2, 10)"
      ]
     },
     "execution_count": 55,
     "metadata": {},
     "output_type": "execute_result"
    }
   ],
   "source": [
    "V= V[:n_elements,:] # reduce number of column Vk\n",
    "V.shape"
   ]
  },
  {
   "cell_type": "code",
   "execution_count": 57,
   "id": "c2663b45",
   "metadata": {},
   "outputs": [
    {
     "data": {
      "text/plain": [
       "array([[ 1.,  2.,  3.,  4.,  5.,  6.,  7.,  8.,  9., 10.],\n",
       "       [11., 12., 13., 14., 15., 16., 17., 18., 19., 20.],\n",
       "       [21., 22., 23., 24., 25., 26., 27., 28., 29., 30.]])"
      ]
     },
     "execution_count": 57,
     "metadata": {},
     "output_type": "execute_result"
    }
   ],
   "source": [
    "U@sigma@V# reconstruct full matrix"
   ]
  },
  {
   "cell_type": "code",
   "execution_count": 58,
   "id": "d887b21c",
   "metadata": {},
   "outputs": [
    {
     "data": {
      "text/plain": [
       "array([[-18.52157747,   6.47697214],\n",
       "       [-49.81310011,   1.91182038],\n",
       "       [-81.10462276,  -2.65333138]])"
      ]
     },
     "execution_count": 58,
     "metadata": {},
     "output_type": "execute_result"
    }
   ],
   "source": [
    "U@sigma #dense summary of the matrix or a projection T = U · Σk"
   ]
  },
  {
   "cell_type": "code",
   "execution_count": 59,
   "id": "66aa3434",
   "metadata": {},
   "outputs": [
    {
     "data": {
      "text/plain": [
       "array([[-18.52157747,   6.47697214],\n",
       "       [-49.81310011,   1.91182038],\n",
       "       [-81.10462276,  -2.65333138]])"
      ]
     },
     "execution_count": 59,
     "metadata": {},
     "output_type": "execute_result"
    }
   ],
   "source": [
    "A@(V.T)  # T = A · VkT"
   ]
  },
  {
   "cell_type": "markdown",
   "id": "c1d78c89",
   "metadata": {},
   "source": [
    "Select feature using scikit-learn"
   ]
  },
  {
   "cell_type": "code",
   "execution_count": 67,
   "id": "7800452e",
   "metadata": {},
   "outputs": [],
   "source": [
    "svd= sklearn.decomposition.TruncatedSVD(n_components=2)"
   ]
  },
  {
   "cell_type": "code",
   "execution_count": 68,
   "id": "7369f6c8",
   "metadata": {},
   "outputs": [
    {
     "data": {
      "text/plain": [
       "TruncatedSVD()"
      ]
     },
     "execution_count": 68,
     "metadata": {},
     "output_type": "execute_result"
    }
   ],
   "source": [
    "svd.fit(A)"
   ]
  },
  {
   "cell_type": "code",
   "execution_count": 69,
   "id": "5c7e5459",
   "metadata": {},
   "outputs": [
    {
     "data": {
      "text/plain": [
       "array([[18.52157747,  6.47697214],\n",
       "       [49.81310011,  1.91182038],\n",
       "       [81.10462276, -2.65333138]])"
      ]
     },
     "execution_count": 69,
     "metadata": {},
     "output_type": "execute_result"
    }
   ],
   "source": [
    "svd.transform(A)"
   ]
  },
  {
   "cell_type": "markdown",
   "id": "59156a4f",
   "metadata": {},
   "source": [
    "### 7.Pseudoinverse\n",
    "**The pseudoinverse is the generalization of the matrix inverse for square matrices to rectangular\n",
    "matrices where the number of rows and columns are not equal**"
   ]
  },
  {
   "cell_type": "markdown",
   "id": "13390772",
   "metadata": {},
   "source": [
    "- **A+ = V · D+ · Ut**\n",
    "- **A+ = Vt. Dt . Ut** (manually calculate from SVD)\n",
    "- The pseudoinverse provides one way of solving the linear regression equation, specifically when there are more rows than there are columns, which is often the case"
   ]
  },
  {
   "cell_type": "code",
   "execution_count": 3,
   "id": "cf38c931",
   "metadata": {},
   "outputs": [
    {
     "data": {
      "text/plain": [
       "array([[0.1, 0.2],\n",
       "       [0.3, 0.4],\n",
       "       [0.5, 0.6],\n",
       "       [0.7, 0.8]])"
      ]
     },
     "execution_count": 3,
     "metadata": {},
     "output_type": "execute_result"
    }
   ],
   "source": [
    "A= np.array([[0.1,0.2],[0.3,0.4],[0.5,0.6],[0.7,0.8]])\n",
    "A"
   ]
  },
  {
   "cell_type": "code",
   "execution_count": 5,
   "id": "6a7d2bd1",
   "metadata": {},
   "outputs": [
    {
     "data": {
      "text/plain": [
       "array([[-1.00000000e+01, -5.00000000e+00,  1.28757642e-14,\n",
       "         5.00000000e+00],\n",
       "       [ 8.50000000e+00,  4.50000000e+00,  5.00000000e-01,\n",
       "        -3.50000000e+00]])"
      ]
     },
     "execution_count": 5,
     "metadata": {},
     "output_type": "execute_result"
    }
   ],
   "source": [
    "B=np.linalg.pinv(A) # calculate pseudoinverse\n",
    "B"
   ]
  },
  {
   "cell_type": "code",
   "execution_count": 20,
   "id": "8789e9de",
   "metadata": {},
   "outputs": [
    {
     "data": {
      "text/plain": [
       "array([[1., 0.],\n",
       "       [0., 1.]])"
      ]
     },
     "execution_count": 20,
     "metadata": {},
     "output_type": "execute_result"
    }
   ],
   "source": [
    "(B@A).round(0) # Cross check inverse matrix"
   ]
  },
  {
   "cell_type": "markdown",
   "id": "e0bd3385",
   "metadata": {},
   "source": [
    "Calculate pseudoinverse manually from SVD"
   ]
  },
  {
   "cell_type": "markdown",
   "id": "517ea6c0",
   "metadata": {},
   "source": [
    "**A+ = Vt. Dt . Ut**\n",
    "- D is diag matrix from 1/s "
   ]
  },
  {
   "cell_type": "code",
   "execution_count": 18,
   "id": "2833e3d3",
   "metadata": {},
   "outputs": [],
   "source": [
    "U,s,V= scipy.linalg.svd(A) # factorize SVD"
   ]
  },
  {
   "cell_type": "code",
   "execution_count": 22,
   "id": "196647df",
   "metadata": {},
   "outputs": [
    {
     "data": {
      "text/plain": [
       "array([1.42690955, 0.06268282])"
      ]
     },
     "execution_count": 22,
     "metadata": {},
     "output_type": "execute_result"
    }
   ],
   "source": [
    "s"
   ]
  },
  {
   "cell_type": "code",
   "execution_count": 21,
   "id": "5676defc",
   "metadata": {},
   "outputs": [
    {
     "data": {
      "text/plain": [
       "array([ 0.70081527, 15.95333376])"
      ]
     },
     "execution_count": 21,
     "metadata": {},
     "output_type": "execute_result"
    }
   ],
   "source": [
    "d=1/s\n",
    "d"
   ]
  },
  {
   "cell_type": "code",
   "execution_count": 24,
   "id": "34a3a403",
   "metadata": {},
   "outputs": [
    {
     "data": {
      "text/plain": [
       "array([[0., 0.],\n",
       "       [0., 0.],\n",
       "       [0., 0.],\n",
       "       [0., 0.]])"
      ]
     },
     "execution_count": 24,
     "metadata": {},
     "output_type": "execute_result"
    }
   ],
   "source": [
    "D= np.zeros(A.shape)\n",
    "D"
   ]
  },
  {
   "cell_type": "code",
   "execution_count": 26,
   "id": "e7ac58b4",
   "metadata": {},
   "outputs": [],
   "source": [
    "D[:2,:2]=np.diag(d)"
   ]
  },
  {
   "cell_type": "code",
   "execution_count": 27,
   "id": "16193c87",
   "metadata": {},
   "outputs": [
    {
     "data": {
      "text/plain": [
       "array([[ 0.70081527,  0.        ],\n",
       "       [ 0.        , 15.95333376],\n",
       "       [ 0.        ,  0.        ],\n",
       "       [ 0.        ,  0.        ]])"
      ]
     },
     "execution_count": 27,
     "metadata": {},
     "output_type": "execute_result"
    }
   ],
   "source": [
    "D"
   ]
  },
  {
   "cell_type": "code",
   "execution_count": 29,
   "id": "ce9a0eec",
   "metadata": {},
   "outputs": [
    {
     "data": {
      "text/plain": [
       "array([[-1.00000000e+01, -5.00000000e+00,  1.28565458e-14,\n",
       "         5.00000000e+00],\n",
       "       [ 8.50000000e+00,  4.50000000e+00,  5.00000000e-01,\n",
       "        -3.50000000e+00]])"
      ]
     },
     "execution_count": 29,
     "metadata": {},
     "output_type": "execute_result"
    }
   ],
   "source": [
    "B=(V.T)@(D.T)@(U.T)\n",
    "B"
   ]
  },
  {
   "cell_type": "code",
   "execution_count": null,
   "id": "9eb7cbe0",
   "metadata": {},
   "outputs": [],
   "source": []
  }
 ],
 "metadata": {
  "kernelspec": {
   "display_name": "Python 3",
   "language": "python",
   "name": "python3"
  },
  "language_info": {
   "codemirror_mode": {
    "name": "ipython",
    "version": 3
   },
   "file_extension": ".py",
   "mimetype": "text/x-python",
   "name": "python",
   "nbconvert_exporter": "python",
   "pygments_lexer": "ipython3",
   "version": "3.8.6"
  }
 },
 "nbformat": 4,
 "nbformat_minor": 5
}
