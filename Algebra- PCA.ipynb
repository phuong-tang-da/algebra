{
 "cells": [
  {
   "cell_type": "code",
   "execution_count": 1,
   "id": "eed53b13",
   "metadata": {},
   "outputs": [],
   "source": [
    "import pandas as pd\n",
    "import numpy as np\n",
    "\n",
    "import random\n",
    "import sklearn # Dimensionality reduce\n",
    "from sklearn import decomposition # Dimensionality reduce with SVD, PCA\n",
    "\n",
    "import matplotlib.pyplot as plt\n",
    "import seaborn as sns"
   ]
  },
  {
   "cell_type": "markdown",
   "id": "5e36c008",
   "metadata": {},
   "source": [
    "**Principal Component Analysis (PCA) is an unsupervised, non-parametric statistical technique primarily used for dimensionality reduction in machine learning**\n",
    "- It is best practice to normalize the data before conducting a PCA as unscaled data with different measurement units can distort the relative comparison of variance across features.\n",
    "- https://www.machinelearningplus.com/machine-learning/principal-components-analysis-pca-better-explained/"
   ]
  },
  {
   "cell_type": "code",
   "execution_count": 2,
   "id": "f0a5bc3e",
   "metadata": {},
   "outputs": [],
   "source": [
    "data= pd.read_excel('Student_12f_C.xls')"
   ]
  },
  {
   "cell_type": "code",
   "execution_count": 3,
   "id": "f9042ba0",
   "metadata": {},
   "outputs": [
    {
     "data": {
      "text/html": [
       "<div>\n",
       "<style scoped>\n",
       "    .dataframe tbody tr th:only-of-type {\n",
       "        vertical-align: middle;\n",
       "    }\n",
       "\n",
       "    .dataframe tbody tr th {\n",
       "        vertical-align: top;\n",
       "    }\n",
       "\n",
       "    .dataframe thead th {\n",
       "        text-align: right;\n",
       "    }\n",
       "</style>\n",
       "<table border=\"1\" class=\"dataframe\">\n",
       "  <thead>\n",
       "    <tr style=\"text-align: right;\">\n",
       "      <th></th>\n",
       "      <th>f1</th>\n",
       "      <th>f2</th>\n",
       "      <th>f3</th>\n",
       "      <th>f4</th>\n",
       "      <th>f5</th>\n",
       "      <th>f6</th>\n",
       "      <th>f7</th>\n",
       "      <th>f8</th>\n",
       "      <th>f9</th>\n",
       "      <th>f10</th>\n",
       "      <th>f11</th>\n",
       "      <th>f12</th>\n",
       "      <th>Class</th>\n",
       "    </tr>\n",
       "  </thead>\n",
       "  <tbody>\n",
       "    <tr>\n",
       "      <th>0</th>\n",
       "      <td>-2.403589</td>\n",
       "      <td>-0.218339</td>\n",
       "      <td>-3.015506</td>\n",
       "      <td>2.187585</td>\n",
       "      <td>-1.415101</td>\n",
       "      <td>-0.000049</td>\n",
       "      <td>2.920957</td>\n",
       "      <td>-4.165317</td>\n",
       "      <td>-2.237563</td>\n",
       "      <td>1.567810</td>\n",
       "      <td>4.056278</td>\n",
       "      <td>-5.816942</td>\n",
       "      <td>3</td>\n",
       "    </tr>\n",
       "    <tr>\n",
       "      <th>1</th>\n",
       "      <td>-0.922966</td>\n",
       "      <td>6.564721</td>\n",
       "      <td>8.542600</td>\n",
       "      <td>-3.676891</td>\n",
       "      <td>1.526910</td>\n",
       "      <td>-6.132242</td>\n",
       "      <td>-1.284702</td>\n",
       "      <td>-7.841047</td>\n",
       "      <td>10.161966</td>\n",
       "      <td>-1.933277</td>\n",
       "      <td>8.959247</td>\n",
       "      <td>-2.492584</td>\n",
       "      <td>4</td>\n",
       "    </tr>\n",
       "    <tr>\n",
       "      <th>2</th>\n",
       "      <td>9.381326</td>\n",
       "      <td>-0.157043</td>\n",
       "      <td>9.674137</td>\n",
       "      <td>4.059390</td>\n",
       "      <td>9.150245</td>\n",
       "      <td>-8.320246</td>\n",
       "      <td>10.076978</td>\n",
       "      <td>-11.596349</td>\n",
       "      <td>-2.900057</td>\n",
       "      <td>-1.890156</td>\n",
       "      <td>0.390029</td>\n",
       "      <td>-5.383296</td>\n",
       "      <td>0</td>\n",
       "    </tr>\n",
       "    <tr>\n",
       "      <th>3</th>\n",
       "      <td>-7.610665</td>\n",
       "      <td>-10.375051</td>\n",
       "      <td>0.398027</td>\n",
       "      <td>-6.178855</td>\n",
       "      <td>5.848558</td>\n",
       "      <td>2.276540</td>\n",
       "      <td>-1.726164</td>\n",
       "      <td>9.378226</td>\n",
       "      <td>1.146725</td>\n",
       "      <td>-9.630693</td>\n",
       "      <td>-8.620247</td>\n",
       "      <td>-0.552103</td>\n",
       "      <td>2</td>\n",
       "    </tr>\n",
       "    <tr>\n",
       "      <th>4</th>\n",
       "      <td>8.586239</td>\n",
       "      <td>-4.265564</td>\n",
       "      <td>4.788978</td>\n",
       "      <td>4.309953</td>\n",
       "      <td>2.938052</td>\n",
       "      <td>-4.294121</td>\n",
       "      <td>6.980088</td>\n",
       "      <td>-9.878268</td>\n",
       "      <td>-5.017204</td>\n",
       "      <td>0.154492</td>\n",
       "      <td>7.647917</td>\n",
       "      <td>-1.004416</td>\n",
       "      <td>0</td>\n",
       "    </tr>\n",
       "  </tbody>\n",
       "</table>\n",
       "</div>"
      ],
      "text/plain": [
       "         f1         f2        f3        f4        f5        f6         f7  \\\n",
       "0 -2.403589  -0.218339 -3.015506  2.187585 -1.415101 -0.000049   2.920957   \n",
       "1 -0.922966   6.564721  8.542600 -3.676891  1.526910 -6.132242  -1.284702   \n",
       "2  9.381326  -0.157043  9.674137  4.059390  9.150245 -8.320246  10.076978   \n",
       "3 -7.610665 -10.375051  0.398027 -6.178855  5.848558  2.276540  -1.726164   \n",
       "4  8.586239  -4.265564  4.788978  4.309953  2.938052 -4.294121   6.980088   \n",
       "\n",
       "          f8         f9       f10       f11       f12  Class  \n",
       "0  -4.165317  -2.237563  1.567810  4.056278 -5.816942      3  \n",
       "1  -7.841047  10.161966 -1.933277  8.959247 -2.492584      4  \n",
       "2 -11.596349  -2.900057 -1.890156  0.390029 -5.383296      0  \n",
       "3   9.378226   1.146725 -9.630693 -8.620247 -0.552103      2  \n",
       "4  -9.878268  -5.017204  0.154492  7.647917 -1.004416      0  "
      ]
     },
     "execution_count": 3,
     "metadata": {},
     "output_type": "execute_result"
    }
   ],
   "source": [
    "data.head()"
   ]
  },
  {
   "cell_type": "code",
   "execution_count": 4,
   "id": "f8393607",
   "metadata": {},
   "outputs": [
    {
     "data": {
      "text/plain": [
       "(1000, 13)"
      ]
     },
     "execution_count": 4,
     "metadata": {},
     "output_type": "execute_result"
    }
   ],
   "source": [
    "data.shape"
   ]
  },
  {
   "cell_type": "code",
   "execution_count": 5,
   "id": "b3795f80",
   "metadata": {
    "scrolled": true
   },
   "outputs": [
    {
     "data": {
      "text/html": [
       "<div>\n",
       "<style scoped>\n",
       "    .dataframe tbody tr th:only-of-type {\n",
       "        vertical-align: middle;\n",
       "    }\n",
       "\n",
       "    .dataframe tbody tr th {\n",
       "        vertical-align: top;\n",
       "    }\n",
       "\n",
       "    .dataframe thead th {\n",
       "        text-align: right;\n",
       "    }\n",
       "</style>\n",
       "<table border=\"1\" class=\"dataframe\">\n",
       "  <thead>\n",
       "    <tr style=\"text-align: right;\">\n",
       "      <th></th>\n",
       "      <th>f1</th>\n",
       "      <th>f2</th>\n",
       "      <th>f3</th>\n",
       "      <th>f4</th>\n",
       "      <th>f5</th>\n",
       "      <th>f6</th>\n",
       "      <th>f7</th>\n",
       "      <th>f8</th>\n",
       "      <th>f9</th>\n",
       "      <th>f10</th>\n",
       "      <th>f11</th>\n",
       "      <th>f12</th>\n",
       "    </tr>\n",
       "  </thead>\n",
       "  <tbody>\n",
       "    <tr>\n",
       "      <th>0</th>\n",
       "      <td>-2.403589</td>\n",
       "      <td>-0.218339</td>\n",
       "      <td>-3.015506</td>\n",
       "      <td>2.187585</td>\n",
       "      <td>-1.415101</td>\n",
       "      <td>-0.000049</td>\n",
       "      <td>2.920957</td>\n",
       "      <td>-4.165317</td>\n",
       "      <td>-2.237563</td>\n",
       "      <td>1.567810</td>\n",
       "      <td>4.056278</td>\n",
       "      <td>-5.816942</td>\n",
       "    </tr>\n",
       "    <tr>\n",
       "      <th>1</th>\n",
       "      <td>-0.922966</td>\n",
       "      <td>6.564721</td>\n",
       "      <td>8.542600</td>\n",
       "      <td>-3.676891</td>\n",
       "      <td>1.526910</td>\n",
       "      <td>-6.132242</td>\n",
       "      <td>-1.284702</td>\n",
       "      <td>-7.841047</td>\n",
       "      <td>10.161966</td>\n",
       "      <td>-1.933277</td>\n",
       "      <td>8.959247</td>\n",
       "      <td>-2.492584</td>\n",
       "    </tr>\n",
       "    <tr>\n",
       "      <th>2</th>\n",
       "      <td>9.381326</td>\n",
       "      <td>-0.157043</td>\n",
       "      <td>9.674137</td>\n",
       "      <td>4.059390</td>\n",
       "      <td>9.150245</td>\n",
       "      <td>-8.320246</td>\n",
       "      <td>10.076978</td>\n",
       "      <td>-11.596349</td>\n",
       "      <td>-2.900057</td>\n",
       "      <td>-1.890156</td>\n",
       "      <td>0.390029</td>\n",
       "      <td>-5.383296</td>\n",
       "    </tr>\n",
       "    <tr>\n",
       "      <th>3</th>\n",
       "      <td>-7.610665</td>\n",
       "      <td>-10.375051</td>\n",
       "      <td>0.398027</td>\n",
       "      <td>-6.178855</td>\n",
       "      <td>5.848558</td>\n",
       "      <td>2.276540</td>\n",
       "      <td>-1.726164</td>\n",
       "      <td>9.378226</td>\n",
       "      <td>1.146725</td>\n",
       "      <td>-9.630693</td>\n",
       "      <td>-8.620247</td>\n",
       "      <td>-0.552103</td>\n",
       "    </tr>\n",
       "    <tr>\n",
       "      <th>4</th>\n",
       "      <td>8.586239</td>\n",
       "      <td>-4.265564</td>\n",
       "      <td>4.788978</td>\n",
       "      <td>4.309953</td>\n",
       "      <td>2.938052</td>\n",
       "      <td>-4.294121</td>\n",
       "      <td>6.980088</td>\n",
       "      <td>-9.878268</td>\n",
       "      <td>-5.017204</td>\n",
       "      <td>0.154492</td>\n",
       "      <td>7.647917</td>\n",
       "      <td>-1.004416</td>\n",
       "    </tr>\n",
       "  </tbody>\n",
       "</table>\n",
       "</div>"
      ],
      "text/plain": [
       "         f1         f2        f3        f4        f5        f6         f7  \\\n",
       "0 -2.403589  -0.218339 -3.015506  2.187585 -1.415101 -0.000049   2.920957   \n",
       "1 -0.922966   6.564721  8.542600 -3.676891  1.526910 -6.132242  -1.284702   \n",
       "2  9.381326  -0.157043  9.674137  4.059390  9.150245 -8.320246  10.076978   \n",
       "3 -7.610665 -10.375051  0.398027 -6.178855  5.848558  2.276540  -1.726164   \n",
       "4  8.586239  -4.265564  4.788978  4.309953  2.938052 -4.294121   6.980088   \n",
       "\n",
       "          f8         f9       f10       f11       f12  \n",
       "0  -4.165317  -2.237563  1.567810  4.056278 -5.816942  \n",
       "1  -7.841047  10.161966 -1.933277  8.959247 -2.492584  \n",
       "2 -11.596349  -2.900057 -1.890156  0.390029 -5.383296  \n",
       "3   9.378226   1.146725 -9.630693 -8.620247 -0.552103  \n",
       "4  -9.878268  -5.017204  0.154492  7.647917 -1.004416  "
      ]
     },
     "execution_count": 5,
     "metadata": {},
     "output_type": "execute_result"
    }
   ],
   "source": [
    "data.iloc[:,:-1].head()"
   ]
  },
  {
   "cell_type": "markdown",
   "id": "7da857a5",
   "metadata": {},
   "source": [
    "**Choosing k**"
   ]
  },
  {
   "cell_type": "code",
   "execution_count": 6,
   "id": "a894a468",
   "metadata": {},
   "outputs": [],
   "source": [
    "pca= sklearn.decomposition.PCA()"
   ]
  },
  {
   "cell_type": "code",
   "execution_count": 7,
   "id": "9b410137",
   "metadata": {},
   "outputs": [
    {
     "data": {
      "text/plain": [
       "PCA()"
      ]
     },
     "execution_count": 7,
     "metadata": {},
     "output_type": "execute_result"
    }
   ],
   "source": [
    "pca.fit(data.iloc[:,:-1]) #fit transform"
   ]
  },
  {
   "cell_type": "code",
   "execution_count": 8,
   "id": "ba9c8d90",
   "metadata": {},
   "outputs": [
    {
     "data": {
      "text/plain": [
       "12"
      ]
     },
     "execution_count": 8,
     "metadata": {},
     "output_type": "execute_result"
    }
   ],
   "source": [
    "pca. n_features_ "
   ]
  },
  {
   "cell_type": "code",
   "execution_count": 9,
   "id": "93b6bf75",
   "metadata": {},
   "outputs": [
    {
     "data": {
      "text/plain": [
       "1000"
      ]
     },
     "execution_count": 9,
     "metadata": {},
     "output_type": "execute_result"
    }
   ],
   "source": [
    "pca.n_samples_"
   ]
  },
  {
   "cell_type": "markdown",
   "id": "9de30627",
   "metadata": {},
   "source": [
    "**Explain step 1**: mean of each columns"
   ]
  },
  {
   "cell_type": "code",
   "execution_count": 10,
   "id": "e87f37a1",
   "metadata": {},
   "outputs": [
    {
     "data": {
      "text/plain": [
       "array([ 3.22016832,  0.87493043,  1.01236779,  0.12770196,  1.1219226 ,\n",
       "       -1.04076385,  1.12877535, -1.92019402,  0.57118398, -1.05635374,\n",
       "        3.17782252,  0.90870474])"
      ]
     },
     "execution_count": 10,
     "metadata": {},
     "output_type": "execute_result"
    }
   ],
   "source": [
    "pca.mean_"
   ]
  },
  {
   "cell_type": "code",
   "execution_count": 11,
   "id": "1acbcfd6",
   "metadata": {},
   "outputs": [
    {
     "data": {
      "text/plain": [
       "f1     3.220168\n",
       "f2     0.874930\n",
       "f3     1.012368\n",
       "f4     0.127702\n",
       "f5     1.121923\n",
       "f6    -1.040764\n",
       "f7     1.128775\n",
       "f8    -1.920194\n",
       "f9     0.571184\n",
       "f10   -1.056354\n",
       "f11    3.177823\n",
       "f12    0.908705\n",
       "dtype: float64"
      ]
     },
     "execution_count": 11,
     "metadata": {},
     "output_type": "execute_result"
    }
   ],
   "source": [
    "data.iloc[:,:-1].mean()"
   ]
  },
  {
   "cell_type": "markdown",
   "id": "f4105fff",
   "metadata": {},
   "source": [
    "**Explain step 2**: Center columns by subtracting column means"
   ]
  },
  {
   "cell_type": "code",
   "execution_count": 12,
   "id": "32b2199f",
   "metadata": {},
   "outputs": [
    {
     "data": {
      "text/html": [
       "<div>\n",
       "<style scoped>\n",
       "    .dataframe tbody tr th:only-of-type {\n",
       "        vertical-align: middle;\n",
       "    }\n",
       "\n",
       "    .dataframe tbody tr th {\n",
       "        vertical-align: top;\n",
       "    }\n",
       "\n",
       "    .dataframe thead th {\n",
       "        text-align: right;\n",
       "    }\n",
       "</style>\n",
       "<table border=\"1\" class=\"dataframe\">\n",
       "  <thead>\n",
       "    <tr style=\"text-align: right;\">\n",
       "      <th></th>\n",
       "      <th>f1</th>\n",
       "      <th>f2</th>\n",
       "      <th>f3</th>\n",
       "      <th>f4</th>\n",
       "      <th>f5</th>\n",
       "      <th>f6</th>\n",
       "      <th>f7</th>\n",
       "      <th>f8</th>\n",
       "      <th>f9</th>\n",
       "      <th>f10</th>\n",
       "      <th>f11</th>\n",
       "      <th>f12</th>\n",
       "    </tr>\n",
       "  </thead>\n",
       "  <tbody>\n",
       "    <tr>\n",
       "      <th>0</th>\n",
       "      <td>-5.623757</td>\n",
       "      <td>-1.093270</td>\n",
       "      <td>-4.027873</td>\n",
       "      <td>2.059883</td>\n",
       "      <td>-2.537024</td>\n",
       "      <td>1.040715</td>\n",
       "      <td>1.792182</td>\n",
       "      <td>-2.245123</td>\n",
       "      <td>-2.808747</td>\n",
       "      <td>2.624164</td>\n",
       "      <td>0.878455</td>\n",
       "      <td>-6.725647</td>\n",
       "    </tr>\n",
       "    <tr>\n",
       "      <th>1</th>\n",
       "      <td>-4.143134</td>\n",
       "      <td>5.689790</td>\n",
       "      <td>7.530232</td>\n",
       "      <td>-3.804593</td>\n",
       "      <td>0.404987</td>\n",
       "      <td>-5.091478</td>\n",
       "      <td>-2.413477</td>\n",
       "      <td>-5.920853</td>\n",
       "      <td>9.590782</td>\n",
       "      <td>-0.876923</td>\n",
       "      <td>5.781425</td>\n",
       "      <td>-3.401289</td>\n",
       "    </tr>\n",
       "    <tr>\n",
       "      <th>2</th>\n",
       "      <td>6.161157</td>\n",
       "      <td>-1.031973</td>\n",
       "      <td>8.661769</td>\n",
       "      <td>3.931688</td>\n",
       "      <td>8.028322</td>\n",
       "      <td>-7.279482</td>\n",
       "      <td>8.948203</td>\n",
       "      <td>-9.676155</td>\n",
       "      <td>-3.471241</td>\n",
       "      <td>-0.833802</td>\n",
       "      <td>-2.787793</td>\n",
       "      <td>-6.292001</td>\n",
       "    </tr>\n",
       "    <tr>\n",
       "      <th>3</th>\n",
       "      <td>-10.830834</td>\n",
       "      <td>-11.249982</td>\n",
       "      <td>-0.614340</td>\n",
       "      <td>-6.306557</td>\n",
       "      <td>4.726635</td>\n",
       "      <td>3.317304</td>\n",
       "      <td>-2.854939</td>\n",
       "      <td>11.298420</td>\n",
       "      <td>0.575541</td>\n",
       "      <td>-8.574339</td>\n",
       "      <td>-11.798069</td>\n",
       "      <td>-1.460807</td>\n",
       "    </tr>\n",
       "    <tr>\n",
       "      <th>4</th>\n",
       "      <td>5.366071</td>\n",
       "      <td>-5.140494</td>\n",
       "      <td>3.776611</td>\n",
       "      <td>4.182251</td>\n",
       "      <td>1.816130</td>\n",
       "      <td>-3.253357</td>\n",
       "      <td>5.851313</td>\n",
       "      <td>-7.958074</td>\n",
       "      <td>-5.588388</td>\n",
       "      <td>1.210846</td>\n",
       "      <td>4.470095</td>\n",
       "      <td>-1.913121</td>\n",
       "    </tr>\n",
       "  </tbody>\n",
       "</table>\n",
       "</div>"
      ],
      "text/plain": [
       "          f1         f2        f3        f4        f5        f6        f7  \\\n",
       "0  -5.623757  -1.093270 -4.027873  2.059883 -2.537024  1.040715  1.792182   \n",
       "1  -4.143134   5.689790  7.530232 -3.804593  0.404987 -5.091478 -2.413477   \n",
       "2   6.161157  -1.031973  8.661769  3.931688  8.028322 -7.279482  8.948203   \n",
       "3 -10.830834 -11.249982 -0.614340 -6.306557  4.726635  3.317304 -2.854939   \n",
       "4   5.366071  -5.140494  3.776611  4.182251  1.816130 -3.253357  5.851313   \n",
       "\n",
       "          f8        f9       f10        f11       f12  \n",
       "0  -2.245123 -2.808747  2.624164   0.878455 -6.725647  \n",
       "1  -5.920853  9.590782 -0.876923   5.781425 -3.401289  \n",
       "2  -9.676155 -3.471241 -0.833802  -2.787793 -6.292001  \n",
       "3  11.298420  0.575541 -8.574339 -11.798069 -1.460807  \n",
       "4  -7.958074 -5.588388  1.210846   4.470095 -1.913121  "
      ]
     },
     "execution_count": 12,
     "metadata": {},
     "output_type": "execute_result"
    }
   ],
   "source": [
    "C= data.iloc[:,:-1]- data.iloc[:,:-1].mean()\n",
    "C.head()"
   ]
  },
  {
   "cell_type": "markdown",
   "id": "e392679f",
   "metadata": {},
   "source": [
    "**Explain step 3**: Covariance matrix"
   ]
  },
  {
   "cell_type": "code",
   "execution_count": 13,
   "id": "8781c474",
   "metadata": {},
   "outputs": [
    {
     "data": {
      "text/plain": [
       "array([[ 3.64104761e+01,  1.82042168e+01, -4.11638966e+00,\n",
       "         1.80306051e+01, -4.41758446e+00,  3.50477467e+00,\n",
       "         1.41793739e+00, -2.12508383e+01, -5.94683508e+00,\n",
       "         1.38548123e+01,  2.09337965e+01,  7.44445813e+00],\n",
       "       [ 1.82042168e+01,  3.38459263e+01, -1.04151863e+01,\n",
       "         1.36844768e+01, -2.53834006e+01, -4.44698394e+00,\n",
       "        -1.41271328e+01, -2.99557041e-02, -2.12573974e+00,\n",
       "         2.83467005e+01,  2.11421578e+01,  4.77657522e+00],\n",
       "       [-4.11638966e+00, -1.04151863e+01,  3.84319037e+01,\n",
       "        -4.20467369e+00,  1.83955910e+01, -1.89018600e+01,\n",
       "         2.01372144e+01, -2.12653563e+01,  5.95568968e+00,\n",
       "        -1.30797300e+01,  1.27597863e-01, -2.30576455e+01],\n",
       "       [ 1.80306051e+01,  1.36844768e+01, -4.20467369e+00,\n",
       "         1.90035250e+01, -6.68038519e+00,  3.51656366e+00,\n",
       "         5.96719439e+00, -1.59578765e+01, -9.25865669e+00,\n",
       "         1.08445327e+01,  1.35723437e+01, -1.99087863e+00],\n",
       "       [-4.41758446e+00, -2.53834006e+01,  1.83955910e+01,\n",
       "        -6.68038519e+00,  3.60348777e+01,  4.61292342e+00,\n",
       "         2.14260512e+01, -2.34797369e+01,  6.02346455e+00,\n",
       "        -2.83632530e+01, -8.70961326e+00, -6.41692308e+00],\n",
       "       [ 3.50477467e+00, -4.44698394e+00, -1.89018600e+01,\n",
       "         3.51656366e+00,  4.61292342e+00,  2.63453120e+01,\n",
       "         5.06605210e-01, -5.25314230e+00, -2.93981724e+00,\n",
       "        -6.06208326e+00, -1.63898934e+00,  1.29494871e+01],\n",
       "       [ 1.41793739e+00, -1.41271328e+01,  2.01372144e+01,\n",
       "         5.96719439e+00,  2.14260512e+01,  5.06605210e-01,\n",
       "         3.61720328e+01, -3.36777656e+01, -7.31237501e+00,\n",
       "        -1.71615924e+01, -7.22158727e-01, -2.26417532e+01],\n",
       "       [-2.12508383e+01, -2.99557041e-02, -2.12653563e+01,\n",
       "        -1.59578765e+01, -2.34797369e+01, -5.25314230e+00,\n",
       "        -3.36777656e+01,  6.82419942e+01, -2.44976825e+00,\n",
       "         1.12883128e+01, -2.11660584e+01,  1.83821006e+01],\n",
       "       [-5.94683508e+00, -2.12573974e+00,  5.95568968e+00,\n",
       "        -9.25865669e+00,  6.02346455e+00, -2.93981724e+00,\n",
       "        -7.31237501e+00, -2.44976825e+00,  2.14680334e+01,\n",
       "        -5.05480295e+00,  1.88585661e+00,  4.43205409e+00],\n",
       "       [ 1.38548123e+01,  2.83467005e+01, -1.30797300e+01,\n",
       "         1.08445327e+01, -2.83632530e+01, -6.06208326e+00,\n",
       "        -1.71615924e+01,  1.12883128e+01, -5.05480295e+00,\n",
       "         3.25748049e+01,  1.54327005e+01,  5.82887270e+00],\n",
       "       [ 2.09337965e+01,  2.11421578e+01,  1.27597863e-01,\n",
       "         1.35723437e+01, -8.70961326e+00, -1.63898934e+00,\n",
       "        -7.22158727e-01, -2.11660584e+01,  1.88585661e+00,\n",
       "         1.54327005e+01,  2.61948515e+01,  3.48585063e-01],\n",
       "       [ 7.44445813e+00,  4.77657522e+00, -2.30576455e+01,\n",
       "        -1.99087863e+00, -6.41692308e+00,  1.29494871e+01,\n",
       "        -2.26417532e+01,  1.83821006e+01,  4.43205409e+00,\n",
       "         5.82887270e+00,  3.48585063e-01,  3.27401055e+01]])"
      ]
     },
     "execution_count": 13,
     "metadata": {},
     "output_type": "execute_result"
    }
   ],
   "source": [
    "V= np.cov(C.T)\n",
    "V"
   ]
  },
  {
   "cell_type": "code",
   "execution_count": 14,
   "id": "f85790d8",
   "metadata": {},
   "outputs": [
    {
     "data": {
      "text/plain": [
       "(12, 12)"
      ]
     },
     "execution_count": 14,
     "metadata": {},
     "output_type": "execute_result"
    }
   ],
   "source": [
    "V.shape"
   ]
  },
  {
   "cell_type": "markdown",
   "id": "eb861185",
   "metadata": {},
   "source": [
    "**Explain step 4**: Factorize covariance matrix"
   ]
  },
  {
   "cell_type": "code",
   "execution_count": 15,
   "id": "ae0b39c2",
   "metadata": {},
   "outputs": [],
   "source": [
    "values,vectors= np.linalg.eig(V)"
   ]
  },
  {
   "cell_type": "code",
   "execution_count": 16,
   "id": "885e58f4",
   "metadata": {},
   "outputs": [
    {
     "data": {
      "text/plain": [
       "array([149.99684329, 115.77901472,  59.48623903,  36.34044988,\n",
       "        18.57071803,   4.5190582 ,   3.30005464,   3.56443736,\n",
       "         4.14221852,   3.84819396,   3.91355344,   4.00306212])"
      ]
     },
     "execution_count": 16,
     "metadata": {},
     "output_type": "execute_result"
    }
   ],
   "source": [
    "values"
   ]
  },
  {
   "cell_type": "code",
   "execution_count": 17,
   "id": "d6555078",
   "metadata": {},
   "outputs": [
    {
     "data": {
      "text/plain": [
       "array([149.99684329, 115.77901472,  59.48623903,  36.34044988,\n",
       "        18.57071803,   4.5190582 ,   4.14221852,   4.00306212,\n",
       "         3.91355344,   3.84819396,   3.56443736,   3.30005464])"
      ]
     },
     "execution_count": 17,
     "metadata": {},
     "output_type": "execute_result"
    }
   ],
   "source": [
    "pca.explained_variance_ "
   ]
  },
  {
   "cell_type": "code",
   "execution_count": 18,
   "id": "b09c4881",
   "metadata": {
    "scrolled": true
   },
   "outputs": [
    {
     "data": {
      "text/plain": [
       "array([[ 0.06623594,  0.45808921,  0.2015459 , -0.07592275,  0.62771979,\n",
       "        -0.48578138, -0.0296093 ,  0.02557748,  0.29886086,  0.1094936 ,\n",
       "        -0.07662692, -0.02563422],\n",
       "       [ 0.29716646,  0.36525329, -0.17835733, -0.07757111, -0.16480492,\n",
       "         0.25415859, -0.68260487, -0.23558044,  0.26230657, -0.22451656,\n",
       "         0.00415708, -0.08954897],\n",
       "       [-0.36910544,  0.02649992, -0.45337102, -0.23210712,  0.29375646,\n",
       "         0.42385206,  0.10320963,  0.33517922,  0.39426769, -0.03488235,\n",
       "         0.08014007,  0.22718484],\n",
       "       [ 0.03216299,  0.33308107,  0.07375452,  0.2551009 ,  0.06046487,\n",
       "         0.37351024,  0.31220026,  0.02773593,  0.00357056,  0.1101721 ,\n",
       "         0.36686185, -0.65525865],\n",
       "       [-0.4133828 , -0.1183725 ,  0.24831321, -0.19635518,  0.26394426,\n",
       "         0.17751666,  0.07340308, -0.56558158, -0.04126471, -0.474391  ,\n",
       "        -0.17875141, -0.17244383],\n",
       "       [ 0.02428436, -0.00195192,  0.59921963,  0.15785667, -0.32002758,\n",
       "         0.17688206,  0.16620047,  0.14015749,  0.60631645, -0.0879925 ,\n",
       "        -0.15503583,  0.18722584],\n",
       "       [-0.42116521,  0.12731235,  0.00174493,  0.37735997, -0.00934453,\n",
       "         0.05311181, -0.31207737,  0.33350384, -0.16365808,  0.07679302,\n",
       "        -0.60217652, -0.23913356],\n",
       "       [ 0.46045557, -0.50910713, -0.19103611,  0.15827666,  0.31949739,\n",
       "         0.16103338,  0.06155242, -0.14541863,  0.26693543,  0.1902535 ,\n",
       "        -0.38884954, -0.23588938],\n",
       "       [-0.03529627, -0.08156488, -0.02400117, -0.68209742, -0.31648442,\n",
       "        -0.22127393,  0.05474076,  0.21527897,  0.15883987,  0.05419228,\n",
       "        -0.17396902, -0.51900881],\n",
       "       [ 0.35175942,  0.26223392, -0.22877204,  0.05768829, -0.03243075,\n",
       "        -0.05513461,  0.40519195,  0.22513677, -0.14873602, -0.64688262,\n",
       "        -0.30153578,  0.03704162],\n",
       "       [ 0.06169786,  0.41771385, -0.03391448, -0.24439227, -0.13052555,\n",
       "         0.28071643,  0.28417236, -0.33244544, -0.16352184,  0.47697094,\n",
       "        -0.40257628,  0.23960359],\n",
       "       [ 0.28349592, -0.07602881,  0.45309884, -0.33170729,  0.31041449,\n",
       "         0.39737094, -0.20719572,  0.38895199, -0.38074255, -0.02169191,\n",
       "         0.00596441,  0.06764513]])"
      ]
     },
     "execution_count": 18,
     "metadata": {},
     "output_type": "execute_result"
    }
   ],
   "source": [
    "vectors"
   ]
  },
  {
   "cell_type": "code",
   "execution_count": 19,
   "id": "b7d78e3f",
   "metadata": {},
   "outputs": [
    {
     "data": {
      "text/plain": [
       "array([[ 0.06623594, -0.45808921,  0.2015459 ,  0.07592275, -0.62771979,\n",
       "         0.48578138, -0.29886086, -0.02563422,  0.07662692, -0.1094936 ,\n",
       "        -0.02557748,  0.0296093 ],\n",
       "       [ 0.29716646, -0.36525329, -0.17835733,  0.07757111,  0.16480492,\n",
       "        -0.25415859, -0.26230657, -0.08954897, -0.00415708,  0.22451656,\n",
       "         0.23558044,  0.68260487],\n",
       "       [-0.36910544, -0.02649992, -0.45337102,  0.23210712, -0.29375646,\n",
       "        -0.42385206, -0.39426769,  0.22718484, -0.08014007,  0.03488235,\n",
       "        -0.33517922, -0.10320963],\n",
       "       [ 0.03216299, -0.33308107,  0.07375452, -0.2551009 , -0.06046487,\n",
       "        -0.37351024, -0.00357056, -0.65525865, -0.36686185, -0.1101721 ,\n",
       "        -0.02773593, -0.31220026],\n",
       "       [-0.4133828 ,  0.1183725 ,  0.24831321,  0.19635518, -0.26394426,\n",
       "        -0.17751666,  0.04126471, -0.17244383,  0.17875141,  0.474391  ,\n",
       "         0.56558158, -0.07340308],\n",
       "       [ 0.02428436,  0.00195192,  0.59921963, -0.15785667,  0.32002758,\n",
       "        -0.17688206, -0.60631645,  0.18722584,  0.15503583,  0.0879925 ,\n",
       "        -0.14015749, -0.16620047],\n",
       "       [-0.42116521, -0.12731235,  0.00174493, -0.37735997,  0.00934453,\n",
       "        -0.05311181,  0.16365808, -0.23913356,  0.60217652, -0.07679302,\n",
       "        -0.33350384,  0.31207737],\n",
       "       [ 0.46045557,  0.50910713, -0.19103611, -0.15827666, -0.31949739,\n",
       "        -0.16103338, -0.26693543, -0.23588938,  0.38884954, -0.1902535 ,\n",
       "         0.14541863, -0.06155242],\n",
       "       [-0.03529627,  0.08156488, -0.02400117,  0.68209742,  0.31648442,\n",
       "         0.22127393, -0.15883987, -0.51900881,  0.17396902, -0.05419228,\n",
       "        -0.21527897, -0.05474076],\n",
       "       [ 0.35175942, -0.26223392, -0.22877204, -0.05768829,  0.03243075,\n",
       "         0.05513461,  0.14873602,  0.03704162,  0.30153578,  0.64688262,\n",
       "        -0.22513677, -0.40519195],\n",
       "       [ 0.06169786, -0.41771385, -0.03391448,  0.24439227,  0.13052555,\n",
       "        -0.28071643,  0.16352184,  0.23960359,  0.40257628, -0.47697094,\n",
       "         0.33244544, -0.28417236],\n",
       "       [ 0.28349592,  0.07602881,  0.45309884,  0.33170729, -0.31041449,\n",
       "        -0.39737094,  0.38074255,  0.06764513, -0.00596441,  0.02169191,\n",
       "        -0.38895199,  0.20719572]])"
      ]
     },
     "execution_count": 19,
     "metadata": {},
     "output_type": "execute_result"
    }
   ],
   "source": [
    "pca.components_.T"
   ]
  },
  {
   "cell_type": "code",
   "execution_count": 31,
   "id": "5a5530b1",
   "metadata": {},
   "outputs": [
    {
     "data": {
      "text/plain": [
       "(12, 12)"
      ]
     },
     "execution_count": 31,
     "metadata": {},
     "output_type": "execute_result"
    }
   ],
   "source": [
    "pca.components_.shape"
   ]
  },
  {
   "cell_type": "markdown",
   "id": "9c6aef90",
   "metadata": {},
   "source": [
    "- pca.components_ has shape [n_components, n_features]\n",
    "- Let look at 1st row of pca components, we can conclude that feature f8 are the most important for PC1"
   ]
  },
  {
   "cell_type": "code",
   "execution_count": 33,
   "id": "ab452d30",
   "metadata": {},
   "outputs": [
    {
     "data": {
      "text/plain": [
       "array([ 0.1,  0.3, -0.4,  0. , -0.4,  0. , -0.4,  0.5, -0. ,  0.4,  0.1,\n",
       "        0.3])"
      ]
     },
     "execution_count": 33,
     "metadata": {},
     "output_type": "execute_result"
    }
   ],
   "source": [
    "pca.components_[0].round(1)"
   ]
  },
  {
   "cell_type": "code",
   "execution_count": 20,
   "id": "153d0af1",
   "metadata": {},
   "outputs": [],
   "source": [
    "df_comp = pd.DataFrame(pca.components_.round(1),columns=['f1', 'f2', 'f3', 'f4', 'f5', 'f6', 'f7', 'f8', 'f9', 'f10', 'f11',\n",
    "       'f12'], index=['pc1','pc2','pc3','pc4','pc5','pc6','pc7','pc8','pc9','pc10','pc11','pc12'])"
   ]
  },
  {
   "cell_type": "code",
   "execution_count": 21,
   "id": "1a3030b7",
   "metadata": {},
   "outputs": [
    {
     "data": {
      "text/plain": [
       "<AxesSubplot:>"
      ]
     },
     "execution_count": 21,
     "metadata": {},
     "output_type": "execute_result"
    },
    {
     "data": {
      "image/png": "[encoded data removed]",
      "text/plain": [
       "<Figure size 864x432 with 2 Axes>"
      ]
     },
     "metadata": {
      "needs_background": "light"
     },
     "output_type": "display_data"
    }
   ],
   "source": [
    "plt.figure(figsize=(12,6)) # visualize relationship of each new component vs. original features\n",
    "sns.heatmap(df_comp,cmap='PuBuGn_r',annot=True)"
   ]
  },
  {
   "cell_type": "markdown",
   "id": "508db12d",
   "metadata": {},
   "source": [
    "Choosing k based on explained_variance_ratio_"
   ]
  },
  {
   "cell_type": "code",
   "execution_count": 22,
   "id": "63430d76",
   "metadata": {},
   "outputs": [
    {
     "data": {
      "text/plain": [
       "array([0.36812308, 0.28414549, 0.14599145, 0.08918693, 0.04557636,\n",
       "       0.0110907 , 0.01016586, 0.00982434, 0.00960466, 0.00944426,\n",
       "       0.00874786, 0.00809901])"
      ]
     },
     "execution_count": 22,
     "metadata": {},
     "output_type": "execute_result"
    }
   ],
   "source": [
    "pca.explained_variance_ratio_ "
   ]
  },
  {
   "cell_type": "code",
   "execution_count": 23,
   "id": "2c822a41",
   "metadata": {},
   "outputs": [
    {
     "data": {
      "text/plain": [
       "Text(0.5, 1.0, '% explain by k components')"
      ]
     },
     "execution_count": 23,
     "metadata": {},
     "output_type": "execute_result"
    },
    {
     "data": {
      "image/png": "[encoded data removed]",
      "text/plain": [
       "<Figure size 432x288 with 1 Axes>"
      ]
     },
     "metadata": {
      "needs_background": "light"
     },
     "output_type": "display_data"
    }
   ],
   "source": [
    "plt.plot(np.cumsum(pca.explained_variance_ratio_), marker = 'o')\n",
    "plt.title(\"% explain by k components\")"
   ]
  },
  {
   "cell_type": "markdown",
   "id": "132d3a9e",
   "metadata": {},
   "source": [
    "**Reduce to k dimension**"
   ]
  },
  {
   "cell_type": "code",
   "execution_count": 24,
   "id": "19e09854",
   "metadata": {},
   "outputs": [],
   "source": [
    "pca2= sklearn.decomposition.PCA(2)"
   ]
  },
  {
   "cell_type": "code",
   "execution_count": 25,
   "id": "7341e0d4",
   "metadata": {},
   "outputs": [
    {
     "data": {
      "text/plain": [
       "PCA(n_components=2)"
      ]
     },
     "execution_count": 25,
     "metadata": {},
     "output_type": "execute_result"
    }
   ],
   "source": [
    "pca2.fit(data.iloc[:,:-1])"
   ]
  },
  {
   "cell_type": "code",
   "execution_count": 26,
   "id": "6296d160",
   "metadata": {},
   "outputs": [],
   "source": [
    "pca2_result= pca2.fit_transform(data.iloc[:,:-1])"
   ]
  },
  {
   "cell_type": "code",
   "execution_count": 27,
   "id": "1ce2d0f9",
   "metadata": {},
   "outputs": [],
   "source": [
    "principalDf = pd.DataFrame(data = pca2_result, columns = ['pc1','pc2'])"
   ]
  },
  {
   "cell_type": "code",
   "execution_count": 28,
   "id": "239ca245",
   "metadata": {},
   "outputs": [
    {
     "data": {
      "text/plain": [
       "array([0.36812308, 0.28414549])"
      ]
     },
     "execution_count": 28,
     "metadata": {},
     "output_type": "execute_result"
    }
   ],
   "source": [
    "pca2.explained_variance_ratio_"
   ]
  },
  {
   "cell_type": "code",
   "execution_count": 29,
   "id": "85d80f3f",
   "metadata": {},
   "outputs": [],
   "source": [
    "principalDf['Class']=data.Class"
   ]
  },
  {
   "cell_type": "code",
   "execution_count": 30,
   "id": "ea641f3c",
   "metadata": {},
   "outputs": [
    {
     "data": {
      "text/plain": [
       "<Figure size 576x576 with 0 Axes>"
      ]
     },
     "metadata": {},
     "output_type": "display_data"
    },
    {
     "data": {
      "image/png": "[encoded data removed]",
      "text/plain": [
       "<Figure size 432x432 with 3 Axes>"
      ]
     },
     "metadata": {
      "needs_background": "light"
     },
     "output_type": "display_data"
    }
   ],
   "source": [
    "plt.figure(figsize = (8, 8))\n",
    "sns.jointplot(data=principalDf,  x = 'pc1', \n",
    "              y = 'pc2', hue='Class')              \n",
    "plt.show()"
   ]
  },
  {
   "cell_type": "code",
   "execution_count": null,
   "id": "85547ab9",
   "metadata": {},
   "outputs": [],
   "source": []
  }
 ],
 "metadata": {
  "kernelspec": {
   "display_name": "Python 3",
   "language": "python",
   "name": "python3"
  },
  "language_info": {
   "codemirror_mode": {
    "name": "ipython",
    "version": 3
   },
   "file_extension": ".py",
   "mimetype": "text/x-python",
   "name": "python",
   "nbconvert_exporter": "python",
   "pygments_lexer": "ipython3",
   "version": "3.8.6"
  }
 },
 "nbformat": 4,
 "nbformat_minor": 5
}
